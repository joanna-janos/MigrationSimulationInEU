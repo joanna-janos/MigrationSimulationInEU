{
 "cells": [
  {
   "cell_type": "markdown",
   "metadata": {},
   "source": [
    "# Migration simulation in EU - analysis of results"
   ]
  },
  {
   "cell_type": "markdown",
   "metadata": {},
   "source": [
    "Required properties from simulation (**must be the same as in migration_simulation.ipynb!**)."
   ]
  },
  {
   "cell_type": "code",
   "execution_count": null,
   "metadata": {},
   "outputs": [],
   "source": [
    "countries = ['Austria', 'Belgium', 'Bulgaria', 'Croatia', 'Cyprus', 'Czech Republic', 'Denmark',\n",
    " 'Estonia', 'Finland', 'France', 'Greece', 'Spain', 'Ireland', 'Lithuania', 'Luxemburg', 'Latvia',\n",
    " 'Malta', 'Netherlands', 'Germany', 'Poland', 'Portugal', 'Romania', 'Slovakia', 'Slovenia', 'Sweden',\n",
    " 'Hungary', 'United Kingdom', 'Italy']"
   ]
  },
  {
   "cell_type": "code",
   "execution_count": null,
   "metadata": {},
   "outputs": [],
   "source": [
    "n_iter = 50"
   ]
  },
  {
   "cell_type": "markdown",
   "metadata": {},
   "source": [
    "Load data in order to provide statistics."
   ]
  },
  {
   "cell_type": "code",
   "execution_count": null,
   "metadata": {},
   "outputs": [],
   "source": [
    "import pandas as pd\n",
    "\n",
    "def read_data_from_csv(filename: str) -> pd.DataFrame:\n",
    "    return pd.read_csv('results/' + filename + '.csv', sep=';')\n",
    "\n",
    "\n",
    "agent_current_countries = read_data_from_csv('current_country')\n",
    "agent_races = read_data_from_csv('race')\n",
    "agent_religious_denomination = read_data_from_csv('religious_denomination')"
   ]
  },
  {
   "cell_type": "markdown",
   "metadata": {},
   "source": [
    "## Country"
   ]
  },
  {
   "cell_type": "markdown",
   "metadata": {},
   "source": [
    "Below we can see current country in each step for agents."
   ]
  },
  {
   "cell_type": "code",
   "execution_count": null,
   "metadata": {},
   "outputs": [],
   "source": [
    "df_result_visited_countries = pd.DataFrame.from_records(\n",
    "    [agent['current_country'].tolist() for _, agent in agent_current_countries.reset_index().groupby(['AgentID'])])\n",
    "display(df_result_visited_countries.head())"
   ]
  },
  {
   "cell_type": "markdown",
   "metadata": {},
   "source": [
    "#### The same first and last country\n",
    "It shows that (FILL) % of agents feel the happiest in their origin country. <br>\n",
    "Based on result, more agents feel happier in different country than in origin."
   ]
  },
  {
   "cell_type": "code",
   "execution_count": null,
   "metadata": {},
   "outputs": [],
   "source": [
    "(df_result_visited_countries.iloc[:, 0] == df_result_visited_countries.iloc[:, n_iter - 1]).value_counts()"
   ]
  },
  {
   "cell_type": "markdown",
   "metadata": {},
   "source": [
    "#### Number of visited countries"
   ]
  },
  {
   "cell_type": "code",
   "execution_count": null,
   "metadata": {},
   "outputs": [],
   "source": [
    "df_result_visited_countries['unique_countries_count'] = df_result_visited_countries.apply(pd.Series.nunique, axis=1)"
   ]
  },
  {
   "cell_type": "markdown",
   "metadata": {},
   "source": [
    "Max number of visited country for agent is:"
   ]
  },
  {
   "cell_type": "code",
   "execution_count": null,
   "metadata": {},
   "outputs": [],
   "source": [
    "df_result_visited_countries['unique_countries_count'].max()"
   ]
  },
  {
   "cell_type": "markdown",
   "metadata": {},
   "source": [
    "It is (FILL) % of number of possible movements."
   ]
  },
  {
   "cell_type": "markdown",
   "metadata": {},
   "source": [
    "Min number of visited country for agent is:"
   ]
  },
  {
   "cell_type": "code",
   "execution_count": null,
   "metadata": {},
   "outputs": [],
   "source": [
    "df_result_visited_countries['unique_countries_count'].min()"
   ]
  },
  {
   "cell_type": "markdown",
   "metadata": {},
   "source": [
    "Median number of visited country for agent is:"
   ]
  },
  {
   "cell_type": "code",
   "execution_count": null,
   "metadata": {},
   "outputs": [],
   "source": [
    "df_result_visited_countries['unique_countries_count'].median()"
   ]
  },
  {
   "cell_type": "markdown",
   "metadata": {},
   "source": [
    "Median is lower than half of number of possible movements. <br>\n",
    "It can indicate that agent find the best place for him and don't want trying other solutions."
   ]
  },
  {
   "cell_type": "markdown",
   "metadata": {},
   "source": [
    "## Race"
   ]
  },
  {
   "cell_type": "markdown",
   "metadata": {},
   "source": [
    "In simulation I had following number of agents with race:"
   ]
  },
  {
   "cell_type": "code",
   "execution_count": null,
   "metadata": {},
   "outputs": [],
   "source": [
    "df_result_race = pd.DataFrame.from_records(\n",
    "    [agent['race'].tolist() for _, agent in agent_races.reset_index().groupby(['AgentID'])])\n",
    "df_result_race.iloc[:, 0].value_counts()"
   ]
  },
  {
   "cell_type": "markdown",
   "metadata": {},
   "source": [
    "## Religious denomination"
   ]
  },
  {
   "cell_type": "markdown",
   "metadata": {},
   "source": [
    "In simulation I had following number of agents with religious denomination:"
   ]
  },
  {
   "cell_type": "code",
   "execution_count": null,
   "metadata": {},
   "outputs": [],
   "source": [
    "df_result_religious_denomination = pd.DataFrame.from_records(\n",
    "    [agent['religious_denomination'].tolist() for _, agent in\n",
    "     agent_religious_denomination.reset_index().groupby(['AgentID'])])\n",
    "df_result_religious_denomination.iloc[:, 0].value_counts()"
   ]
  },
  {
   "cell_type": "markdown",
   "metadata": {},
   "source": [
    "## Correlations"
   ]
  },
  {
   "cell_type": "markdown",
   "metadata": {},
   "source": [
    "Following section provides an information about correlation between data."
   ]
  },
  {
   "cell_type": "code",
   "execution_count": null,
   "metadata": {},
   "outputs": [],
   "source": [
    "df_gathered_results = pd.DataFrame({'origin_country': df_result_visited_countries.iloc[:, 0],\n",
    "                                    'last_country': df_result_visited_countries.iloc[:, n_iter - 1],\n",
    "                                    'race': df_result_race.iloc[:, 0],\n",
    "                                    'religious_denomination': df_result_religious_denomination.iloc[:, 0]\n",
    "                                    })"
   ]
  },
  {
   "cell_type": "markdown",
   "metadata": {},
   "source": [
    "### Race - the same origin and last country"
   ]
  },
  {
   "cell_type": "markdown",
   "metadata": {},
   "source": [
    "#### White people - the same origin as last country"
   ]
  },
  {
   "cell_type": "code",
   "execution_count": null,
   "metadata": {},
   "outputs": [],
   "source": [
    "df_gathered_results_white_people = df_gathered_results.groupby('race').get_group('White') \n",
    "(df_gathered_results_white_people['origin_country'] == df_gathered_results_white_people['last_country']).value_counts()"
   ]
  },
  {
   "cell_type": "markdown",
   "metadata": {},
   "source": [
    "#### Black people - the same origin as last country"
   ]
  },
  {
   "cell_type": "code",
   "execution_count": null,
   "metadata": {},
   "outputs": [],
   "source": [
    "df_gathered_results_black_people = df_gathered_results.groupby('race').get_group('Black') \n",
    "(df_gathered_results_black_people['origin_country'] == df_gathered_results_black_people['last_country']).value_counts()"
   ]
  },
  {
   "cell_type": "markdown",
   "metadata": {},
   "source": [
    "#### Asian people - the same origin as last country"
   ]
  },
  {
   "cell_type": "code",
   "execution_count": null,
   "metadata": {
    "scrolled": true
   },
   "outputs": [],
   "source": [
    "df_gathered_results_asian_people = df_gathered_results.groupby('race').get_group('Asian') \n",
    "(df_gathered_results_asian_people['origin_country'] == df_gathered_results_asian_people['last_country']).value_counts()"
   ]
  },
  {
   "cell_type": "markdown",
   "metadata": {},
   "source": [
    "### Religious denomination - the same origin and last country"
   ]
  },
  {
   "cell_type": "markdown",
   "metadata": {},
   "source": [
    "#### Christians - the same origin as last country"
   ]
  },
  {
   "cell_type": "code",
   "execution_count": null,
   "metadata": {},
   "outputs": [],
   "source": [
    "df_gathered_results_christians = df_gathered_results.groupby('religious_denomination').get_group('Christian') \n",
    "(df_gathered_results_christians['origin_country'] == df_gathered_results_christians['last_country']).value_counts()"
   ]
  },
  {
   "cell_type": "markdown",
   "metadata": {},
   "source": [
    "#### Muslims - the same origin as last country"
   ]
  },
  {
   "cell_type": "code",
   "execution_count": null,
   "metadata": {},
   "outputs": [],
   "source": [
    "df_gathered_results_muslims = df_gathered_results.groupby('religious_denomination').get_group('Muslim') \n",
    "(df_gathered_results_muslims['origin_country'] == df_gathered_results_muslims['last_country']).value_counts()"
   ]
  },
  {
   "cell_type": "markdown",
   "metadata": {},
   "source": [
    "#### Jews - the same origin as last country"
   ]
  },
  {
   "cell_type": "code",
   "execution_count": null,
   "metadata": {},
   "outputs": [],
   "source": [
    "df_gathered_results_jews = df_gathered_results.groupby('religious_denomination').get_group('Jew') \n",
    "(df_gathered_results_jews['origin_country'] == df_gathered_results_jews['last_country']).value_counts()"
   ]
  }
 ],
 "metadata": {
  "kernelspec": {
   "display_name": "Python 3",
   "language": "python",
   "name": "python3"
  },
  "language_info": {
   "codemirror_mode": {
    "name": "ipython",
    "version": 3
   },
   "file_extension": ".py",
   "mimetype": "text/x-python",
   "name": "python",
   "nbconvert_exporter": "python",
   "pygments_lexer": "ipython3",
   "version": "3.6.8"
  }
 },
 "nbformat": 4,
 "nbformat_minor": 2
}
