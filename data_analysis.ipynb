{
 "cells": [
  {
   "cell_type": "markdown",
   "metadata": {},
   "source": [
    "# Migration simulation in EU - data analysis"
   ]
  },
  {
   "cell_type": "markdown",
   "metadata": {},
   "source": [
    "<div id=\"toc\"></div>"
   ]
  },
  {
   "cell_type": "code",
   "execution_count": 1,
   "metadata": {},
   "outputs": [
    {
     "data": {
      "application/javascript": [
       "$.getScript('https://kmahelona.github.io/ipython_notebook_goodies/ipython_notebook_toc.js')"
      ],
      "text/plain": [
       "<IPython.core.display.Javascript object>"
      ]
     },
     "metadata": {},
     "output_type": "display_data"
    }
   ],
   "source": [
    "%%javascript\n",
    "$.getScript('https://kmahelona.github.io/ipython_notebook_goodies/ipython_notebook_toc.js')"
   ]
  },
  {
   "cell_type": "markdown",
   "metadata": {},
   "source": [
    "__Data origin__ <br>\n",
    "Data was gathered especially from EU reports and then saved in .csv format."
   ]
  },
  {
   "cell_type": "code",
   "execution_count": 2,
   "metadata": {},
   "outputs": [],
   "source": [
    "import pandas as pd\n",
    "import matplotlib.pyplot as plt\n",
    "%matplotlib inline\n",
    "\n",
    "def read_data_from_csv(filename: str) -> pd.DataFrame:\n",
    "    return pd.read_csv('data/' + filename + '.csv', sep=';', index_col='Country')"
   ]
  },
  {
   "cell_type": "markdown",
   "metadata": {},
   "source": [
    "## Population\n",
    "Number of people who live in each EU country.\n",
    "    - Max value: 82162000 [Germany]\n",
    "    - Min value: 434403 [Malta]"
   ]
  },
  {
   "cell_type": "code",
   "execution_count": 3,
   "metadata": {},
   "outputs": [
    {
     "data": {
      "text/plain": [
       "<matplotlib.axes._subplots.AxesSubplot at 0x108a4dda0>"
      ]
     },
     "execution_count": 3,
     "metadata": {},
     "output_type": "execute_result"
    },
    {
     "data": {
      "image/png": "[encoded data removed]",
      "text/plain": [
       "<Figure size 720x360 with 1 Axes>"
      ]
     },
     "metadata": {},
     "output_type": "display_data"
    }
   ],
   "source": [
    "df_population = read_data_from_csv(filename='population')\n",
    "df_population.plot(kind='bar', title=\"Population\", figsize=(10, 5), legend=True, fontsize=10)"
   ]
  },
  {
   "cell_type": "markdown",
   "metadata": {},
   "source": [
    "To keep relation between different countries and number of citizens I have decided to choose agent's origin country with the probability\n",
    "\n",
    "$$\\frac{\\text{number of people in selected country}}{\\text{number of people in all countries}}$$\n",
    "\n",
    "calculated for each country.<br>\n",
    "Below data frame shows probabilities for some randomly choosen countries."
   ]
  },
  {
   "cell_type": "code",
   "execution_count": 4,
   "metadata": {},
   "outputs": [
    {
     "data": {
      "text/html": [
       "<div>\n",
       "<style scoped>\n",
       "    .dataframe tbody tr th:only-of-type {\n",
       "        vertical-align: middle;\n",
       "    }\n",
       "\n",
       "    .dataframe tbody tr th {\n",
       "        vertical-align: top;\n",
       "    }\n",
       "\n",
       "    .dataframe thead th {\n",
       "        text-align: right;\n",
       "    }\n",
       "</style>\n",
       "<table border=\"1\" class=\"dataframe\">\n",
       "  <thead>\n",
       "    <tr style=\"text-align: right;\">\n",
       "      <th></th>\n",
       "      <th>Population</th>\n",
       "    </tr>\n",
       "    <tr>\n",
       "      <th>Country</th>\n",
       "      <th></th>\n",
       "    </tr>\n",
       "  </thead>\n",
       "  <tbody>\n",
       "    <tr>\n",
       "      <th>Czech Republic</th>\n",
       "      <td>0.020688</td>\n",
       "    </tr>\n",
       "    <tr>\n",
       "      <th>United Kingdom</th>\n",
       "      <td>0.128163</td>\n",
       "    </tr>\n",
       "    <tr>\n",
       "      <th>Ireland</th>\n",
       "      <td>0.009259</td>\n",
       "    </tr>\n",
       "    <tr>\n",
       "      <th>Belgium</th>\n",
       "      <td>0.022130</td>\n",
       "    </tr>\n",
       "    <tr>\n",
       "      <th>Bulgaria</th>\n",
       "      <td>0.014023</td>\n",
       "    </tr>\n",
       "  </tbody>\n",
       "</table>\n",
       "</div>"
      ],
      "text/plain": [
       "                Population\n",
       "Country                   \n",
       "Czech Republic    0.020688\n",
       "United Kingdom    0.128163\n",
       "Ireland           0.009259\n",
       "Belgium           0.022130\n",
       "Bulgaria          0.014023"
      ]
     },
     "metadata": {},
     "output_type": "display_data"
    }
   ],
   "source": [
    "df_country_as_origin_probability = df_population / df_population.sum()\n",
    "display(df_country_as_origin_probability.sample(5))"
   ]
  },
  {
   "cell_type": "code",
   "execution_count": 5,
   "metadata": {},
   "outputs": [
    {
     "data": {
      "text/plain": [
       "Population    0.000852\n",
       "Name: Malta, dtype: float64"
      ]
     },
     "metadata": {},
     "output_type": "display_data"
    }
   ],
   "source": [
    "display(df_country_as_origin_probability.loc[df_country_as_origin_probability['Population'].idxmin()])"
   ]
  },
  {
   "cell_type": "markdown",
   "metadata": {},
   "source": [
    "Probability to be born in Malta has the lowest value - 0.0852%. Based on it, I need more than 10 000 agents to have about 8 agents from this country."
   ]
  },
  {
   "cell_type": "markdown",
   "metadata": {},
   "source": [
    "## Immigrants\n",
    "Number of immigrants in each EU country.\n",
    "    - Max value: 9845244 [Germany]\n",
    "    - Min value: 20289 [Malta]"
   ]
  },
  {
   "cell_type": "code",
   "execution_count": 6,
   "metadata": {},
   "outputs": [
    {
     "data": {
      "text/plain": [
       "<matplotlib.axes._subplots.AxesSubplot at 0x11405d940>"
      ]
     },
     "execution_count": 6,
     "metadata": {},
     "output_type": "execute_result"
    },
    {
     "data": {
      "image/png": "[encoded data removed]",
      "text/plain": [
       "<Figure size 720x360 with 1 Axes>"
      ]
     },
     "metadata": {},
     "output_type": "display_data"
    }
   ],
   "source": [
    "df_immigrants = read_data_from_csv(filename='immigrants')\n",
    "df_immigrants.plot(kind='bar', title=\"Immigrants\", figsize=(10, 5), legend=True, fontsize=10)"
   ]
  },
  {
   "cell_type": "markdown",
   "metadata": {},
   "source": [
    "## Relation between population and immigrants"
   ]
  },
  {
   "cell_type": "code",
   "execution_count": 7,
   "metadata": {},
   "outputs": [
    {
     "data": {
      "text/plain": [
       "<matplotlib.axes._subplots.AxesSubplot at 0x1141330f0>"
      ]
     },
     "execution_count": 7,
     "metadata": {},
     "output_type": "execute_result"
    },
    {
     "data": {
      "image/png": "[encoded data removed]",
      "text/plain": [
       "<Figure size 720x360 with 1 Axes>"
      ]
     },
     "metadata": {},
     "output_type": "display_data"
    }
   ],
   "source": [
    "df_relation = pd.concat([df_population, df_immigrants], axis=1, sort=False)\n",
    "df_relation.plot(kind='bar', title=\"Relation between population and immigrants\", figsize=(10, 5), legend=True,\n",
    "                 fontsize=10)"
   ]
  },
  {
   "cell_type": "markdown",
   "metadata": {},
   "source": [
    "## How many people in selected country are immigrants?\n",
    "As some of the features are appropriate only for immigrants, it will be useful to keep this information. <br>\n",
    "Below dataframe shows the probability of being an immigrants in selected country at the beggining of simulation."
   ]
  },
  {
   "cell_type": "code",
   "execution_count": 8,
   "metadata": {},
   "outputs": [
    {
     "data": {
      "text/html": [
       "<div>\n",
       "<style scoped>\n",
       "    .dataframe tbody tr th:only-of-type {\n",
       "        vertical-align: middle;\n",
       "    }\n",
       "\n",
       "    .dataframe tbody tr th {\n",
       "        vertical-align: top;\n",
       "    }\n",
       "\n",
       "    .dataframe thead th {\n",
       "        text-align: right;\n",
       "    }\n",
       "</style>\n",
       "<table border=\"1\" class=\"dataframe\">\n",
       "  <thead>\n",
       "    <tr style=\"text-align: right;\">\n",
       "      <th></th>\n",
       "      <th>Immigrants probability</th>\n",
       "    </tr>\n",
       "    <tr>\n",
       "      <th>Country</th>\n",
       "      <th></th>\n",
       "    </tr>\n",
       "  </thead>\n",
       "  <tbody>\n",
       "    <tr>\n",
       "      <th>Ireland</th>\n",
       "      <td>0.155715</td>\n",
       "    </tr>\n",
       "    <tr>\n",
       "      <th>United Kingdom</th>\n",
       "      <td>0.119667</td>\n",
       "    </tr>\n",
       "    <tr>\n",
       "      <th>Czech Republic</th>\n",
       "      <td>0.041607</td>\n",
       "    </tr>\n",
       "    <tr>\n",
       "      <th>Greece</th>\n",
       "      <td>0.091642</td>\n",
       "    </tr>\n",
       "    <tr>\n",
       "      <th>Italy</th>\n",
       "      <td>0.094311</td>\n",
       "    </tr>\n",
       "  </tbody>\n",
       "</table>\n",
       "</div>"
      ],
      "text/plain": [
       "                Immigrants probability\n",
       "Country                               \n",
       "Ireland                       0.155715\n",
       "United Kingdom                0.119667\n",
       "Czech Republic                0.041607\n",
       "Greece                        0.091642\n",
       "Italy                         0.094311"
      ]
     },
     "metadata": {},
     "output_type": "display_data"
    }
   ],
   "source": [
    "df_immigrants_to_population = pd.DataFrame(\n",
    "    df_immigrants['Immigrants'] / df_population['Population'],\n",
    "    columns=['Immigrants probability'])\n",
    "display(df_immigrants_to_population.sample(5))"
   ]
  },
  {
   "cell_type": "markdown",
   "metadata": {},
   "source": [
    "## Interaction with immigrants frequency"
   ]
  },
  {
   "cell_type": "code",
   "execution_count": 9,
   "metadata": {},
   "outputs": [
    {
     "data": {
      "text/html": [
       "<div>\n",
       "<style scoped>\n",
       "    .dataframe tbody tr th:only-of-type {\n",
       "        vertical-align: middle;\n",
       "    }\n",
       "\n",
       "    .dataframe tbody tr th {\n",
       "        vertical-align: top;\n",
       "    }\n",
       "\n",
       "    .dataframe thead th {\n",
       "        text-align: right;\n",
       "    }\n",
       "</style>\n",
       "<table border=\"1\" class=\"dataframe\">\n",
       "  <thead>\n",
       "    <tr style=\"text-align: right;\">\n",
       "      <th></th>\n",
       "      <th>Daily integration with immigrants in one or two different contexts</th>\n",
       "      <th>Daily integration with immigrants in three different contexts or more</th>\n",
       "      <th>Weekly interaction with immigrants</th>\n",
       "      <th>Less frequent interaction with immigrants</th>\n",
       "      <th>Does not know or not applicable in all contexts</th>\n",
       "    </tr>\n",
       "    <tr>\n",
       "      <th>Country</th>\n",
       "      <th></th>\n",
       "      <th></th>\n",
       "      <th></th>\n",
       "      <th></th>\n",
       "      <th></th>\n",
       "    </tr>\n",
       "  </thead>\n",
       "  <tbody>\n",
       "    <tr>\n",
       "      <th>Belgium</th>\n",
       "      <td>0.30</td>\n",
       "      <td>0.15</td>\n",
       "      <td>0.25</td>\n",
       "      <td>0.30</td>\n",
       "      <td>0.00</td>\n",
       "    </tr>\n",
       "    <tr>\n",
       "      <th>Poland</th>\n",
       "      <td>0.16</td>\n",
       "      <td>0.03</td>\n",
       "      <td>0.22</td>\n",
       "      <td>0.53</td>\n",
       "      <td>0.06</td>\n",
       "    </tr>\n",
       "    <tr>\n",
       "      <th>Spain</th>\n",
       "      <td>0.29</td>\n",
       "      <td>0.22</td>\n",
       "      <td>0.28</td>\n",
       "      <td>0.21</td>\n",
       "      <td>0.02</td>\n",
       "    </tr>\n",
       "    <tr>\n",
       "      <th>Hungary</th>\n",
       "      <td>0.07</td>\n",
       "      <td>0.01</td>\n",
       "      <td>0.11</td>\n",
       "      <td>0.78</td>\n",
       "      <td>0.03</td>\n",
       "    </tr>\n",
       "    <tr>\n",
       "      <th>Romania</th>\n",
       "      <td>0.03</td>\n",
       "      <td>0.01</td>\n",
       "      <td>0.05</td>\n",
       "      <td>0.79</td>\n",
       "      <td>0.12</td>\n",
       "    </tr>\n",
       "  </tbody>\n",
       "</table>\n",
       "</div>"
      ],
      "text/plain": [
       "         Daily integration with immigrants in one or two different contexts  \\\n",
       "Country                                                                       \n",
       "Belgium                                               0.30                    \n",
       "Poland                                                0.16                    \n",
       "Spain                                                 0.29                    \n",
       "Hungary                                               0.07                    \n",
       "Romania                                               0.03                    \n",
       "\n",
       "         Daily integration with immigrants in three different contexts or more  \\\n",
       "Country                                                                          \n",
       "Belgium                                               0.15                       \n",
       "Poland                                                0.03                       \n",
       "Spain                                                 0.22                       \n",
       "Hungary                                               0.01                       \n",
       "Romania                                               0.01                       \n",
       "\n",
       "         Weekly interaction with immigrants  \\\n",
       "Country                                       \n",
       "Belgium                                0.25   \n",
       "Poland                                 0.22   \n",
       "Spain                                  0.28   \n",
       "Hungary                                0.11   \n",
       "Romania                                0.05   \n",
       "\n",
       "         Less frequent interaction with immigrants  \\\n",
       "Country                                              \n",
       "Belgium                                       0.30   \n",
       "Poland                                        0.53   \n",
       "Spain                                         0.21   \n",
       "Hungary                                       0.78   \n",
       "Romania                                       0.79   \n",
       "\n",
       "         Does not know or not applicable in all contexts  \n",
       "Country                                                   \n",
       "Belgium                                             0.00  \n",
       "Poland                                              0.06  \n",
       "Spain                                               0.02  \n",
       "Hungary                                             0.03  \n",
       "Romania                                             0.12  "
      ]
     },
     "metadata": {},
     "output_type": "display_data"
    }
   ],
   "source": [
    "df_interaction_with_immigrants = read_data_from_csv(filename='how_often_interact_with_immigrants')\n",
    "display(df_interaction_with_immigrants.sample(5))"
   ]
  },
  {
   "cell_type": "markdown",
   "metadata": {},
   "source": [
    "I have decided to stay only with values for __frequent__ and __less frequent__ integration. <br>\n",
    "\n",
    "Frequent integration is a sum of:\n",
    "- Daily integration with immigrants in one or two different contexts\n",
    "- Daily integration with immigrants in three different contexts or more\n",
    "- Weekly interaction with immigrants"
   ]
  },
  {
   "cell_type": "code",
   "execution_count": 10,
   "metadata": {},
   "outputs": [],
   "source": [
    "df_integration_frequency= pd.DataFrame(df_interaction_with_immigrants.groupby('Country')\n",
    "                             [['Daily integration with immigrants in one or two different contexts', \n",
    "                               'Daily integration with immigrants in three different contexts or more',\n",
    "                               'Weekly interaction with immigrants']].agg(sum).agg('sum', axis=1), columns=['Frequent integration'])\n",
    "df_integration_frequency['Less frequent integration'] = df_interaction_with_immigrants['Less frequent interaction with immigrants'].copy()"
   ]
  },
  {
   "cell_type": "markdown",
   "metadata": {},
   "source": [
    "How it looks after preprocessing?"
   ]
  },
  {
   "cell_type": "code",
   "execution_count": 11,
   "metadata": {},
   "outputs": [
    {
     "data": {
      "text/html": [
       "<div>\n",
       "<style scoped>\n",
       "    .dataframe tbody tr th:only-of-type {\n",
       "        vertical-align: middle;\n",
       "    }\n",
       "\n",
       "    .dataframe tbody tr th {\n",
       "        vertical-align: top;\n",
       "    }\n",
       "\n",
       "    .dataframe thead th {\n",
       "        text-align: right;\n",
       "    }\n",
       "</style>\n",
       "<table border=\"1\" class=\"dataframe\">\n",
       "  <thead>\n",
       "    <tr style=\"text-align: right;\">\n",
       "      <th></th>\n",
       "      <th>Frequent integration</th>\n",
       "      <th>Less frequent integration</th>\n",
       "    </tr>\n",
       "    <tr>\n",
       "      <th>Country</th>\n",
       "      <th></th>\n",
       "      <th></th>\n",
       "    </tr>\n",
       "  </thead>\n",
       "  <tbody>\n",
       "    <tr>\n",
       "      <th>Latvia</th>\n",
       "      <td>0.32</td>\n",
       "      <td>0.64</td>\n",
       "    </tr>\n",
       "    <tr>\n",
       "      <th>Croatia</th>\n",
       "      <td>0.26</td>\n",
       "      <td>0.70</td>\n",
       "    </tr>\n",
       "    <tr>\n",
       "      <th>Belgium</th>\n",
       "      <td>0.70</td>\n",
       "      <td>0.30</td>\n",
       "    </tr>\n",
       "    <tr>\n",
       "      <th>Greece</th>\n",
       "      <td>0.83</td>\n",
       "      <td>0.17</td>\n",
       "    </tr>\n",
       "    <tr>\n",
       "      <th>Estonia</th>\n",
       "      <td>0.32</td>\n",
       "      <td>0.62</td>\n",
       "    </tr>\n",
       "  </tbody>\n",
       "</table>\n",
       "</div>"
      ],
      "text/plain": [
       "         Frequent integration  Less frequent integration\n",
       "Country                                                 \n",
       "Latvia                   0.32                       0.64\n",
       "Croatia                  0.26                       0.70\n",
       "Belgium                  0.70                       0.30\n",
       "Greece                   0.83                       0.17\n",
       "Estonia                  0.32                       0.62"
      ]
     },
     "metadata": {},
     "output_type": "display_data"
    }
   ],
   "source": [
    "display(df_integration_frequency.sample(5))"
   ]
  },
  {
   "cell_type": "markdown",
   "metadata": {},
   "source": [
    "Let's look in which country people have the highest/the lowest score"
   ]
  },
  {
   "cell_type": "code",
   "execution_count": 12,
   "metadata": {},
   "outputs": [
    {
     "name": "stdout",
     "output_type": "stream",
     "text": [
      "Frequent integration:\n"
     ]
    },
    {
     "data": {
      "text/plain": [
       "Country\n",
       "Greece     0.83\n",
       "Ireland    0.82\n",
       "Sweden     0.81\n",
       "Spain      0.79\n",
       "Malta      0.75\n",
       "Name: Frequent integration, dtype: float64"
      ]
     },
     "metadata": {},
     "output_type": "display_data"
    },
    {
     "name": "stdout",
     "output_type": "stream",
     "text": [
      "Less frequent integration:\n"
     ]
    },
    {
     "data": {
      "text/plain": [
       "Country\n",
       "Bulgaria     0.07\n",
       "Romania      0.09\n",
       "Hungary      0.19\n",
       "Lithuania    0.18\n",
       "Croatia      0.26\n",
       "Name: Frequent integration, dtype: float64"
      ]
     },
     "metadata": {},
     "output_type": "display_data"
    }
   ],
   "source": [
    "print('Frequent integration:')\n",
    "display(df_integration_frequency.sort_values(['Frequent integration'], ascending=False)['Frequent integration'].head(5))\n",
    "\n",
    "print('Less frequent integration:')\n",
    "display(df_integration_frequency.sort_values(['Less frequent integration'], ascending=False)['Frequent integration'].head(5))"
   ]
  },
  {
   "cell_type": "markdown",
   "metadata": {},
   "source": [
    "## Relationships\n",
    "It shows how comfortable people feel when their children is in a relationship with a Black person/an Asian person/a Muslim/a Jew."
   ]
  },
  {
   "cell_type": "code",
   "execution_count": 13,
   "metadata": {},
   "outputs": [
    {
     "data": {
      "text/html": [
       "<div>\n",
       "<style scoped>\n",
       "    .dataframe tbody tr th:only-of-type {\n",
       "        vertical-align: middle;\n",
       "    }\n",
       "\n",
       "    .dataframe tbody tr th {\n",
       "        vertical-align: top;\n",
       "    }\n",
       "\n",
       "    .dataframe thead th {\n",
       "        text-align: right;\n",
       "    }\n",
       "</style>\n",
       "<table border=\"1\" class=\"dataframe\">\n",
       "  <thead>\n",
       "    <tr style=\"text-align: right;\">\n",
       "      <th></th>\n",
       "      <th>Would you feel comfortable if one of your children was in a relationship with a Black person?</th>\n",
       "      <th>Would you feel comfortable if one of your children was in a relationship with an Asian person?</th>\n",
       "      <th>Would you feel comfortable if one of your children was in a relationship with a Muslim?</th>\n",
       "      <th>Would you feel comfortable if one of your children was in a relationship with a Jew?</th>\n",
       "    </tr>\n",
       "    <tr>\n",
       "      <th>Country</th>\n",
       "      <th></th>\n",
       "      <th></th>\n",
       "      <th></th>\n",
       "      <th></th>\n",
       "    </tr>\n",
       "  </thead>\n",
       "  <tbody>\n",
       "    <tr>\n",
       "      <th>Greece</th>\n",
       "      <td>0.4-0.49</td>\n",
       "      <td>0.4-0.49</td>\n",
       "      <td>0.3-0.39</td>\n",
       "      <td>0.4-0.49</td>\n",
       "    </tr>\n",
       "    <tr>\n",
       "      <th>Portugal</th>\n",
       "      <td>0.6-0.69</td>\n",
       "      <td>0.6-0.69</td>\n",
       "      <td>0.5-0.59</td>\n",
       "      <td>0.6-0.69</td>\n",
       "    </tr>\n",
       "    <tr>\n",
       "      <th>Finland</th>\n",
       "      <td>0.6-0.69</td>\n",
       "      <td>0.7-0.79</td>\n",
       "      <td>0.3-0.39</td>\n",
       "      <td>0.7-0.79</td>\n",
       "    </tr>\n",
       "    <tr>\n",
       "      <th>Lithuania</th>\n",
       "      <td>0.3-0.39</td>\n",
       "      <td>0.3-0.39</td>\n",
       "      <td>0.2-0.29</td>\n",
       "      <td>0.4-0.49</td>\n",
       "    </tr>\n",
       "    <tr>\n",
       "      <th>Austria</th>\n",
       "      <td>0.5-0.59</td>\n",
       "      <td>0.6-0.69</td>\n",
       "      <td>0.4-0.49</td>\n",
       "      <td>0.6-0.69</td>\n",
       "    </tr>\n",
       "  </tbody>\n",
       "</table>\n",
       "</div>"
      ],
      "text/plain": [
       "          Would you feel comfortable if one of your children was in a relationship with a Black person?  \\\n",
       "Country                                                                                                   \n",
       "Greece                                              0.4-0.49                                              \n",
       "Portugal                                            0.6-0.69                                              \n",
       "Finland                                             0.6-0.69                                              \n",
       "Lithuania                                           0.3-0.39                                              \n",
       "Austria                                             0.5-0.59                                              \n",
       "\n",
       "          Would you feel comfortable if one of your children was in a relationship with an Asian person?  \\\n",
       "Country                                                                                                    \n",
       "Greece                                              0.4-0.49                                               \n",
       "Portugal                                            0.6-0.69                                               \n",
       "Finland                                             0.7-0.79                                               \n",
       "Lithuania                                           0.3-0.39                                               \n",
       "Austria                                             0.6-0.69                                               \n",
       "\n",
       "          Would you feel comfortable if one of your children was in a relationship with a Muslim?  \\\n",
       "Country                                                                                             \n",
       "Greece                                              0.3-0.39                                        \n",
       "Portugal                                            0.5-0.59                                        \n",
       "Finland                                             0.3-0.39                                        \n",
       "Lithuania                                           0.2-0.29                                        \n",
       "Austria                                             0.4-0.49                                        \n",
       "\n",
       "          Would you feel comfortable if one of your children was in a relationship with a Jew?  \n",
       "Country                                                                                         \n",
       "Greece                                              0.4-0.49                                    \n",
       "Portugal                                            0.6-0.69                                    \n",
       "Finland                                             0.7-0.79                                    \n",
       "Lithuania                                           0.4-0.49                                    \n",
       "Austria                                             0.6-0.69                                    "
      ]
     },
     "metadata": {},
     "output_type": "display_data"
    }
   ],
   "source": [
    "df_children_relationship = read_data_from_csv(filename='children_relationship')\n",
    "display(df_children_relationship.sample(5))"
   ]
  },
  {
   "cell_type": "markdown",
   "metadata": {},
   "source": [
    "__df_children_relationship__ does not contain values for:\n",
    "- _\"Would you feel comfortable if one of your children was in a relationship with a White person?\"_ <br>\n",
    "White race is one of the most common race in EU.\n",
    "- _\"Would you feel comfortable if one of your children was in a relationship with a Christian?\"_ <br>\n",
    "Christians are one of the most common religious in EU.\n",
    "\n",
    "But before adding it, data should be preprocessed not to contain intervals and NaN value."
   ]
  },
  {
   "cell_type": "markdown",
   "metadata": {},
   "source": [
    "#### Intervals\n",
    "Intervals will be changed to mean value (taking into consideration the lowest and the highest value)."
   ]
  },
  {
   "cell_type": "code",
   "execution_count": 14,
   "metadata": {},
   "outputs": [],
   "source": [
    "def change_interval_to_mean_value_in_all_columns(df):\n",
    "    for column in df.columns:\n",
    "        df['temp'], df['temp1'] = df[column].str.split('-', 1).str\n",
    "        df[column] = (df['temp'].astype(float) + df['temp1'].astype(float)) / 2\n",
    "        del df['temp']\n",
    "        del df['temp1']\n",
    "    return df"
   ]
  },
  {
   "cell_type": "code",
   "execution_count": 15,
   "metadata": {},
   "outputs": [],
   "source": [
    "df_children_relationship = change_interval_to_mean_value_in_all_columns(df_children_relationship)"
   ]
  },
  {
   "cell_type": "markdown",
   "metadata": {},
   "source": [
    "#### Missing values\n",
    "This dataframe contains NaN value which is not allowed for future data processing.\n",
    "I have decided to change it to mean value for column."
   ]
  },
  {
   "cell_type": "code",
   "execution_count": 16,
   "metadata": {},
   "outputs": [
    {
     "data": {
      "text/html": [
       "<div>\n",
       "<style scoped>\n",
       "    .dataframe tbody tr th:only-of-type {\n",
       "        vertical-align: middle;\n",
       "    }\n",
       "\n",
       "    .dataframe tbody tr th {\n",
       "        vertical-align: top;\n",
       "    }\n",
       "\n",
       "    .dataframe thead th {\n",
       "        text-align: right;\n",
       "    }\n",
       "</style>\n",
       "<table border=\"1\" class=\"dataframe\">\n",
       "  <thead>\n",
       "    <tr style=\"text-align: right;\">\n",
       "      <th></th>\n",
       "      <th>Would you feel comfortable if one of your children was in a relationship with a Black person?</th>\n",
       "      <th>Would you feel comfortable if one of your children was in a relationship with an Asian person?</th>\n",
       "      <th>Would you feel comfortable if one of your children was in a relationship with a Muslim?</th>\n",
       "      <th>Would you feel comfortable if one of your children was in a relationship with a Jew?</th>\n",
       "    </tr>\n",
       "    <tr>\n",
       "      <th>Country</th>\n",
       "      <th></th>\n",
       "      <th></th>\n",
       "      <th></th>\n",
       "      <th></th>\n",
       "    </tr>\n",
       "  </thead>\n",
       "  <tbody>\n",
       "    <tr>\n",
       "      <th>Denmark</th>\n",
       "      <td>0.845</td>\n",
       "      <td>0.845</td>\n",
       "      <td>0.545</td>\n",
       "      <td>NaN</td>\n",
       "    </tr>\n",
       "  </tbody>\n",
       "</table>\n",
       "</div>"
      ],
      "text/plain": [
       "         Would you feel comfortable if one of your children was in a relationship with a Black person?  \\\n",
       "Country                                                                                                  \n",
       "Denmark                                              0.845                                               \n",
       "\n",
       "         Would you feel comfortable if one of your children was in a relationship with an Asian person?  \\\n",
       "Country                                                                                                   \n",
       "Denmark                                              0.845                                                \n",
       "\n",
       "         Would you feel comfortable if one of your children was in a relationship with a Muslim?  \\\n",
       "Country                                                                                            \n",
       "Denmark                                              0.545                                         \n",
       "\n",
       "         Would you feel comfortable if one of your children was in a relationship with a Jew?  \n",
       "Country                                                                                        \n",
       "Denmark                                                NaN                                     "
      ]
     },
     "metadata": {},
     "output_type": "display_data"
    }
   ],
   "source": [
    "# entry with missing value\n",
    "display(df_children_relationship[df_children_relationship.isnull().any(axis=1)])\n",
    "\n",
    "df_children_relationship.fillna(df_children_relationship.iloc[:, -1].mean(), inplace=True)"
   ]
  },
  {
   "cell_type": "markdown",
   "metadata": {},
   "source": [
    "#### Values generation\n",
    "As Christians and White people are respectively the most popular race and religious in EU, I have decided to generate missing values.\n",
    "- _\"Would you feel comfortable if one of your children was in a relationship with a White person?\"_ <br>\n",
    "Value is taken as **0.2 + max value selected from**:\n",
    "    1. 'Would you feel comfortable if one of your children was in a relationship with a Black person?'\n",
    "    2. 'Would you feel comfortable if one of your children was in a relationship with an Asian person?'<br>\n",
    "**upper clipped to 0.85** <br> <br>\n",
    "\n",
    "- _\"Would you feel comfortable if one of your children was in a relationship with a Christian?_\" <br>\n",
    "Value is taken as **0.2 + max value selected from**:\n",
    "    1. 'Would you feel comfortable if one of your children was in a relationship with a Muslim?'\n",
    "    2. 'Would you feel comfortable if one of your children was in a relationship with a Jew?'<br>\n",
    "**upper clipped to 0.85**"
   ]
  },
  {
   "cell_type": "code",
   "execution_count": 17,
   "metadata": {},
   "outputs": [],
   "source": [
    "beginning_of_sentence = 'Would you feel comfortable if one of your children was in a relationship with '\n",
    "\n",
    "df_children_relationship[\n",
    "    beginning_of_sentence + 'a Christian?'] = (\n",
    "        df_children_relationship[\n",
    "            [beginning_of_sentence + 'a Jew?',\n",
    "             beginning_of_sentence + 'a Muslim?']].max(\n",
    "            axis=1) + 0.2).clip(upper=0.85)\n",
    "\n",
    "df_children_relationship[\n",
    "    beginning_of_sentence + 'a White person?'] = (\n",
    "        df_children_relationship[\n",
    "            [beginning_of_sentence + 'a Black person?',\n",
    "             beginning_of_sentence + 'an Asian person?']].max(\n",
    "            axis=1) + 0.2).clip(upper=0.85)"
   ]
  },
  {
   "cell_type": "markdown",
   "metadata": {},
   "source": [
    "How it looks after preprocessing?"
   ]
  },
  {
   "cell_type": "code",
   "execution_count": 18,
   "metadata": {},
   "outputs": [
    {
     "data": {
      "text/html": [
       "<div>\n",
       "<style scoped>\n",
       "    .dataframe tbody tr th:only-of-type {\n",
       "        vertical-align: middle;\n",
       "    }\n",
       "\n",
       "    .dataframe tbody tr th {\n",
       "        vertical-align: top;\n",
       "    }\n",
       "\n",
       "    .dataframe thead th {\n",
       "        text-align: right;\n",
       "    }\n",
       "</style>\n",
       "<table border=\"1\" class=\"dataframe\">\n",
       "  <thead>\n",
       "    <tr style=\"text-align: right;\">\n",
       "      <th></th>\n",
       "      <th>Would you feel comfortable if one of your children was in a relationship with a Black person?</th>\n",
       "      <th>Would you feel comfortable if one of your children was in a relationship with an Asian person?</th>\n",
       "      <th>Would you feel comfortable if one of your children was in a relationship with a Muslim?</th>\n",
       "      <th>Would you feel comfortable if one of your children was in a relationship with a Jew?</th>\n",
       "      <th>Would you feel comfortable if one of your children was in a relationship with a Christian?</th>\n",
       "      <th>Would you feel comfortable if one of your children was in a relationship with a White person?</th>\n",
       "    </tr>\n",
       "    <tr>\n",
       "      <th>Country</th>\n",
       "      <th></th>\n",
       "      <th></th>\n",
       "      <th></th>\n",
       "      <th></th>\n",
       "      <th></th>\n",
       "      <th></th>\n",
       "    </tr>\n",
       "  </thead>\n",
       "  <tbody>\n",
       "    <tr>\n",
       "      <th>Lithuania</th>\n",
       "      <td>0.345</td>\n",
       "      <td>0.345</td>\n",
       "      <td>0.245</td>\n",
       "      <td>0.445</td>\n",
       "      <td>0.645</td>\n",
       "      <td>0.545</td>\n",
       "    </tr>\n",
       "    <tr>\n",
       "      <th>France</th>\n",
       "      <td>0.745</td>\n",
       "      <td>0.845</td>\n",
       "      <td>0.645</td>\n",
       "      <td>0.845</td>\n",
       "      <td>0.850</td>\n",
       "      <td>0.850</td>\n",
       "    </tr>\n",
       "    <tr>\n",
       "      <th>Germany</th>\n",
       "      <td>0.545</td>\n",
       "      <td>0.645</td>\n",
       "      <td>0.445</td>\n",
       "      <td>0.645</td>\n",
       "      <td>0.845</td>\n",
       "      <td>0.845</td>\n",
       "    </tr>\n",
       "    <tr>\n",
       "      <th>Latvia</th>\n",
       "      <td>0.445</td>\n",
       "      <td>0.545</td>\n",
       "      <td>0.345</td>\n",
       "      <td>0.645</td>\n",
       "      <td>0.845</td>\n",
       "      <td>0.745</td>\n",
       "    </tr>\n",
       "    <tr>\n",
       "      <th>Slovakia</th>\n",
       "      <td>0.245</td>\n",
       "      <td>0.245</td>\n",
       "      <td>0.145</td>\n",
       "      <td>0.445</td>\n",
       "      <td>0.645</td>\n",
       "      <td>0.445</td>\n",
       "    </tr>\n",
       "  </tbody>\n",
       "</table>\n",
       "</div>"
      ],
      "text/plain": [
       "           Would you feel comfortable if one of your children was in a relationship with a Black person?  \\\n",
       "Country                                                                                                    \n",
       "Lithuania                                              0.345                                               \n",
       "France                                                 0.745                                               \n",
       "Germany                                                0.545                                               \n",
       "Latvia                                                 0.445                                               \n",
       "Slovakia                                               0.245                                               \n",
       "\n",
       "           Would you feel comfortable if one of your children was in a relationship with an Asian person?  \\\n",
       "Country                                                                                                     \n",
       "Lithuania                                              0.345                                                \n",
       "France                                                 0.845                                                \n",
       "Germany                                                0.645                                                \n",
       "Latvia                                                 0.545                                                \n",
       "Slovakia                                               0.245                                                \n",
       "\n",
       "           Would you feel comfortable if one of your children was in a relationship with a Muslim?  \\\n",
       "Country                                                                                              \n",
       "Lithuania                                              0.245                                         \n",
       "France                                                 0.645                                         \n",
       "Germany                                                0.445                                         \n",
       "Latvia                                                 0.345                                         \n",
       "Slovakia                                               0.145                                         \n",
       "\n",
       "           Would you feel comfortable if one of your children was in a relationship with a Jew?  \\\n",
       "Country                                                                                           \n",
       "Lithuania                                              0.445                                      \n",
       "France                                                 0.845                                      \n",
       "Germany                                                0.645                                      \n",
       "Latvia                                                 0.645                                      \n",
       "Slovakia                                               0.445                                      \n",
       "\n",
       "           Would you feel comfortable if one of your children was in a relationship with a Christian?  \\\n",
       "Country                                                                                                 \n",
       "Lithuania                                              0.645                                            \n",
       "France                                                 0.850                                            \n",
       "Germany                                                0.845                                            \n",
       "Latvia                                                 0.845                                            \n",
       "Slovakia                                               0.645                                            \n",
       "\n",
       "           Would you feel comfortable if one of your children was in a relationship with a White person?  \n",
       "Country                                                                                                   \n",
       "Lithuania                                              0.545                                              \n",
       "France                                                 0.850                                              \n",
       "Germany                                                0.845                                              \n",
       "Latvia                                                 0.745                                              \n",
       "Slovakia                                               0.445                                              "
      ]
     },
     "metadata": {},
     "output_type": "display_data"
    }
   ],
   "source": [
    "display(df_children_relationship.sample(5))"
   ]
  },
  {
   "cell_type": "markdown",
   "metadata": {},
   "source": [
    "## Social relations"
   ]
  },
  {
   "cell_type": "code",
   "execution_count": 19,
   "metadata": {},
   "outputs": [
    {
     "data": {
      "text/html": [
       "<div>\n",
       "<style scoped>\n",
       "    .dataframe tbody tr th:only-of-type {\n",
       "        vertical-align: middle;\n",
       "    }\n",
       "\n",
       "    .dataframe tbody tr th {\n",
       "        vertical-align: top;\n",
       "    }\n",
       "\n",
       "    .dataframe thead th {\n",
       "        text-align: right;\n",
       "    }\n",
       "</style>\n",
       "<table border=\"1\" class=\"dataframe\">\n",
       "  <thead>\n",
       "    <tr style=\"text-align: right;\">\n",
       "      <th></th>\n",
       "      <th>Feel comfortable with all the social relations</th>\n",
       "      <th>Feel uncomfortable with at least one social relation</th>\n",
       "      <th>Does not know in at least one social relation</th>\n",
       "    </tr>\n",
       "    <tr>\n",
       "      <th>Country</th>\n",
       "      <th></th>\n",
       "      <th></th>\n",
       "      <th></th>\n",
       "    </tr>\n",
       "  </thead>\n",
       "  <tbody>\n",
       "    <tr>\n",
       "      <th>Latvia</th>\n",
       "      <td>0.41</td>\n",
       "      <td>0.49</td>\n",
       "      <td>0.10</td>\n",
       "    </tr>\n",
       "    <tr>\n",
       "      <th>Czech Republic</th>\n",
       "      <td>0.31</td>\n",
       "      <td>0.64</td>\n",
       "      <td>0.05</td>\n",
       "    </tr>\n",
       "    <tr>\n",
       "      <th>Cyprus</th>\n",
       "      <td>0.43</td>\n",
       "      <td>0.52</td>\n",
       "      <td>0.05</td>\n",
       "    </tr>\n",
       "    <tr>\n",
       "      <th>Finland</th>\n",
       "      <td>0.50</td>\n",
       "      <td>0.44</td>\n",
       "      <td>0.06</td>\n",
       "    </tr>\n",
       "    <tr>\n",
       "      <th>Denmark</th>\n",
       "      <td>0.64</td>\n",
       "      <td>0.28</td>\n",
       "      <td>0.08</td>\n",
       "    </tr>\n",
       "  </tbody>\n",
       "</table>\n",
       "</div>"
      ],
      "text/plain": [
       "                Feel comfortable with all the social relations  \\\n",
       "Country                                                          \n",
       "Latvia                                                    0.41   \n",
       "Czech Republic                                            0.31   \n",
       "Cyprus                                                    0.43   \n",
       "Finland                                                   0.50   \n",
       "Denmark                                                   0.64   \n",
       "\n",
       "                Feel uncomfortable with at least one social relation  \\\n",
       "Country                                                                \n",
       "Latvia                                                       0.49      \n",
       "Czech Republic                                               0.64      \n",
       "Cyprus                                                       0.52      \n",
       "Finland                                                      0.44      \n",
       "Denmark                                                      0.28      \n",
       "\n",
       "                Does not know in at least one social relation  \n",
       "Country                                                        \n",
       "Latvia                                                   0.10  \n",
       "Czech Republic                                           0.05  \n",
       "Cyprus                                                   0.05  \n",
       "Finland                                                  0.06  \n",
       "Denmark                                                  0.08  "
      ]
     },
     "metadata": {},
     "output_type": "display_data"
    }
   ],
   "source": [
    "df_immigrant_as_your_X = read_data_from_csv(filename='feel_comfortable_or_uncomfortable_having_an_immigrant_as_your_X')\n",
    "display(df_immigrant_as_your_X.sample(5))"
   ]
  },
  {
   "cell_type": "markdown",
   "metadata": {},
   "source": [
    "Let's see in which country people feel the most comfortable/uncomfortable with social relations with immigrants."
   ]
  },
  {
   "cell_type": "code",
   "execution_count": 20,
   "metadata": {},
   "outputs": [
    {
     "name": "stdout",
     "output_type": "stream",
     "text": [
      "Comfortable:\n"
     ]
    },
    {
     "data": {
      "text/plain": [
       "Country\n",
       "Spain          0.83\n",
       "Sweden         0.81\n",
       "Ireland        0.80\n",
       "Portugal       0.79\n",
       "Netherlands    0.79\n",
       "dtype: float64"
      ]
     },
     "metadata": {},
     "output_type": "display_data"
    },
    {
     "name": "stdout",
     "output_type": "stream",
     "text": [
      "Uncomfortable:\n"
     ]
    },
    {
     "data": {
      "text/plain": [
       "Country\n",
       "Bulgaria          0.15\n",
       "Hungary           0.17\n",
       "Czech Republic    0.31\n",
       "Greece            0.37\n",
       "Romania           0.39\n",
       "dtype: float64"
      ]
     },
     "metadata": {},
     "output_type": "display_data"
    }
   ],
   "source": [
    "print('Comfortable:')\n",
    "display(df_immigrant_as_your_X.iloc[:, 0:1].sum(axis=1).sort_values(ascending=False).head(5))\n",
    "\n",
    "print('Uncomfortable:')\n",
    "display(df_immigrant_as_your_X.iloc[:, 0:1].sum(axis=1).sort_values(ascending=True).head(5))"
   ]
  },
  {
   "cell_type": "code",
   "execution_count": 21,
   "metadata": {},
   "outputs": [],
   "source": [
    "def custom_autopct(pct):\n",
    "    return ('%1.1f%%' % pct) if pct > 0 else ''\n",
    "\n",
    "def visualize_data_on_pie_chart(country: str, \n",
    "                                dataframe: pd.DataFrame):\n",
    "    _, ax = plt.subplots()\n",
    "    dataframe.loc[country].plot(kind='pie', autopct=custom_autopct, title=country.upper(), ax=ax, cmap='summer',\n",
    "                                             startangle=200)\n",
    "    ax.set_ylabel('')\n",
    "    ax.legend(bbox_to_anchor=(0, 1))\n",
    "    ax.axis('equal')\n",
    "    plt.show()"
   ]
  },
  {
   "cell_type": "markdown",
   "metadata": {},
   "source": [
    "People in Spain feel the most comfortable with social relations with immigrants. <br>\n",
    "Below is the visualization for this country."
   ]
  },
  {
   "cell_type": "code",
   "execution_count": 22,
   "metadata": {},
   "outputs": [
    {
     "data": {
      "image/png": "[encoded data removed]",
      "text/plain": [
       "<Figure size 432x288 with 1 Axes>"
      ]
     },
     "metadata": {},
     "output_type": "display_data"
    }
   ],
   "source": [
    "visualize_data_on_pie_chart('Spain', df_immigrant_as_your_X)"
   ]
  },
  {
   "cell_type": "markdown",
   "metadata": {},
   "source": [
    "People in Bulgaria feel the most uncomfortable with social relations with immigrants. <br>\n",
    "Below is the visualization for this country."
   ]
  },
  {
   "cell_type": "code",
   "execution_count": 23,
   "metadata": {},
   "outputs": [
    {
     "data": {
      "image/png": "[encoded data removed]",
      "text/plain": [
       "<Figure size 432x288 with 1 Axes>"
      ]
     },
     "metadata": {},
     "output_type": "display_data"
    }
   ],
   "source": [
    "visualize_data_on_pie_chart('Bulgaria', df_immigrant_as_your_X)"
   ]
  },
  {
   "cell_type": "markdown",
   "metadata": {},
   "source": [
    "It looks like Spain and Bulgaria have almost opposite values for:\n",
    "- _Feel comfortable with all the social relations_\n",
    "- _Feel uncomfortable with at least one social relation_"
   ]
  },
  {
   "cell_type": "markdown",
   "metadata": {},
   "source": [
    "## Migration to another country\n",
    "It shows how many people think about moving to another country __within the next 10 years__."
   ]
  },
  {
   "cell_type": "code",
   "execution_count": 24,
   "metadata": {},
   "outputs": [
    {
     "data": {
      "text/html": [
       "<div>\n",
       "<style scoped>\n",
       "    .dataframe tbody tr th:only-of-type {\n",
       "        vertical-align: middle;\n",
       "    }\n",
       "\n",
       "    .dataframe tbody tr th {\n",
       "        vertical-align: top;\n",
       "    }\n",
       "\n",
       "    .dataframe thead th {\n",
       "        text-align: right;\n",
       "    }\n",
       "</style>\n",
       "<table border=\"1\" class=\"dataframe\">\n",
       "  <thead>\n",
       "    <tr style=\"text-align: right;\">\n",
       "      <th></th>\n",
       "      <th>Totally likely</th>\n",
       "      <th>Not likely</th>\n",
       "      <th>Dont know</th>\n",
       "    </tr>\n",
       "    <tr>\n",
       "      <th>Country</th>\n",
       "      <th></th>\n",
       "      <th></th>\n",
       "      <th></th>\n",
       "    </tr>\n",
       "  </thead>\n",
       "  <tbody>\n",
       "    <tr>\n",
       "      <th>Croatia</th>\n",
       "      <td>NaN</td>\n",
       "      <td>NaN</td>\n",
       "      <td>NaN</td>\n",
       "    </tr>\n",
       "  </tbody>\n",
       "</table>\n",
       "</div>"
      ],
      "text/plain": [
       "         Totally likely  Not likely  Dont know\n",
       "Country                                       \n",
       "Croatia             NaN         NaN        NaN"
      ]
     },
     "metadata": {},
     "output_type": "display_data"
    }
   ],
   "source": [
    "df_migration_to_another_country = read_data_from_csv(filename='move_to_another_country_within_the_next_ten_years')\n",
    "\n",
    "# entry with missing value\n",
    "display(df_migration_to_another_country[df_migration_to_another_country.isnull().any(axis=1)])"
   ]
  },
  {
   "cell_type": "markdown",
   "metadata": {},
   "source": [
    "For future data processing, df_migration_to_another_country cannot contain NaN values. It will be a subject for preprocessing."
   ]
  },
  {
   "cell_type": "code",
   "execution_count": 25,
   "metadata": {},
   "outputs": [],
   "source": [
    "df_migration_to_another_country.fillna(df_migration_to_another_country.mean(), inplace=True)"
   ]
  },
  {
   "cell_type": "code",
   "execution_count": 26,
   "metadata": {},
   "outputs": [
    {
     "data": {
      "text/html": [
       "<div>\n",
       "<style scoped>\n",
       "    .dataframe tbody tr th:only-of-type {\n",
       "        vertical-align: middle;\n",
       "    }\n",
       "\n",
       "    .dataframe tbody tr th {\n",
       "        vertical-align: top;\n",
       "    }\n",
       "\n",
       "    .dataframe thead th {\n",
       "        text-align: right;\n",
       "    }\n",
       "</style>\n",
       "<table border=\"1\" class=\"dataframe\">\n",
       "  <thead>\n",
       "    <tr style=\"text-align: right;\">\n",
       "      <th></th>\n",
       "      <th>Totally likely</th>\n",
       "      <th>Not likely</th>\n",
       "      <th>Dont know</th>\n",
       "    </tr>\n",
       "    <tr>\n",
       "      <th>Country</th>\n",
       "      <th></th>\n",
       "      <th></th>\n",
       "      <th></th>\n",
       "    </tr>\n",
       "  </thead>\n",
       "  <tbody>\n",
       "    <tr>\n",
       "      <th>Cyprus</th>\n",
       "      <td>0.14</td>\n",
       "      <td>0.84</td>\n",
       "      <td>0.02</td>\n",
       "    </tr>\n",
       "    <tr>\n",
       "      <th>Slovakia</th>\n",
       "      <td>0.09</td>\n",
       "      <td>0.89</td>\n",
       "      <td>0.02</td>\n",
       "    </tr>\n",
       "    <tr>\n",
       "      <th>Hungary</th>\n",
       "      <td>0.07</td>\n",
       "      <td>0.91</td>\n",
       "      <td>0.02</td>\n",
       "    </tr>\n",
       "    <tr>\n",
       "      <th>Lithuania</th>\n",
       "      <td>0.24</td>\n",
       "      <td>0.75</td>\n",
       "      <td>0.01</td>\n",
       "    </tr>\n",
       "    <tr>\n",
       "      <th>Greece</th>\n",
       "      <td>0.08</td>\n",
       "      <td>0.90</td>\n",
       "      <td>0.02</td>\n",
       "    </tr>\n",
       "  </tbody>\n",
       "</table>\n",
       "</div>"
      ],
      "text/plain": [
       "           Totally likely  Not likely  Dont know\n",
       "Country                                         \n",
       "Cyprus               0.14        0.84       0.02\n",
       "Slovakia             0.09        0.89       0.02\n",
       "Hungary              0.07        0.91       0.02\n",
       "Lithuania            0.24        0.75       0.01\n",
       "Greece               0.08        0.90       0.02"
      ]
     },
     "metadata": {},
     "output_type": "display_data"
    }
   ],
   "source": [
    "display(df_migration_to_another_country.sample(5))"
   ]
  },
  {
   "cell_type": "markdown",
   "metadata": {},
   "source": [
    "#### Likely to travel within the next 10 years\n",
    "In the below diagram we can observe how many percents of people are likely to travel within the next 10 years.<br>\n",
    "More than 1/3 of Latvian citizens want to change place of a residence.<br>\n",
    "People who live in Czech Republic do not want to change country. Only about 5% of them wish to travel somewhere."
   ]
  },
  {
   "cell_type": "code",
   "execution_count": 27,
   "metadata": {},
   "outputs": [
    {
     "data": {
      "text/plain": [
       "<matplotlib.axes._subplots.AxesSubplot at 0x114537f98>"
      ]
     },
     "execution_count": 27,
     "metadata": {},
     "output_type": "execute_result"
    },
    {
     "data": {
      "image/png": "[encoded data removed]",
      "text/plain": [
       "<Figure size 720x360 with 1 Axes>"
      ]
     },
     "metadata": {},
     "output_type": "display_data"
    }
   ],
   "source": [
    "df_migration_to_another_country.loc[:, 'Totally likely'].plot(kind='bar',\n",
    "                                                            title=\"Likely to travel within the next 10 years\",\n",
    "                                                            figsize=(10, 5), legend=False, fontsize=10)"
   ]
  },
  {
   "cell_type": "markdown",
   "metadata": {},
   "source": [
    "#### Not likely to travel within the next 10 years\n",
    "In comparison to _Likely to travel within the next 10 years_ diagram, below one (for _Not likely to travel within the next 10 years_) is not as various as above one. <br>\n",
    "An average of about 84.5% people would stay in current place."
   ]
  },
  {
   "cell_type": "code",
   "execution_count": 28,
   "metadata": {},
   "outputs": [
    {
     "data": {
      "text/plain": [
       "0.844814814814815"
      ]
     },
     "execution_count": 28,
     "metadata": {},
     "output_type": "execute_result"
    }
   ],
   "source": [
    "df_migration_to_another_country.loc[:,'Not likely'].mean()"
   ]
  },
  {
   "cell_type": "code",
   "execution_count": 29,
   "metadata": {},
   "outputs": [
    {
     "data": {
      "text/plain": [
       "<matplotlib.axes._subplots.AxesSubplot at 0x11473fe10>"
      ]
     },
     "execution_count": 29,
     "metadata": {},
     "output_type": "execute_result"
    },
    {
     "data": {
      "image/png": "[encoded data removed]",
      "text/plain": [
       "<Figure size 720x360 with 1 Axes>"
      ]
     },
     "metadata": {},
     "output_type": "display_data"
    }
   ],
   "source": [
    "df_migration_to_another_country.loc[:, 'Not likely'].plot(kind='bar',\n",
    "                                                          title=\"Not likely to travel within the next 10 years\",\n",
    "                                                          figsize=(10, 5), legend=False, fontsize=10)"
   ]
  },
  {
   "cell_type": "markdown",
   "metadata": {},
   "source": [
    "## What people think about migration to their country\n",
    "It can be considered as:\n",
    "- \"My country is a good place to live, I would recommend it.\"\n",
    "- \"I have nothing against immigrants in my country\"\n",
    "- Anxiety about job loss due to immigration <br>\n",
    "\n",
    "The voting reasons can be totally different due to actual situation in each country."
   ]
  },
  {
   "cell_type": "code",
   "execution_count": 30,
   "metadata": {},
   "outputs": [
    {
     "data": {
      "text/html": [
       "<div>\n",
       "<style scoped>\n",
       "    .dataframe tbody tr th:only-of-type {\n",
       "        vertical-align: middle;\n",
       "    }\n",
       "\n",
       "    .dataframe tbody tr th {\n",
       "        vertical-align: top;\n",
       "    }\n",
       "\n",
       "    .dataframe thead th {\n",
       "        text-align: right;\n",
       "    }\n",
       "</style>\n",
       "<table border=\"1\" class=\"dataframe\">\n",
       "  <thead>\n",
       "    <tr style=\"text-align: right;\">\n",
       "      <th></th>\n",
       "      <th>Strongly agree</th>\n",
       "      <th>Agree</th>\n",
       "      <th>Disagree</th>\n",
       "      <th>Strongly disagree</th>\n",
       "      <th>Neither agree nor disagree</th>\n",
       "      <th>Don’t know</th>\n",
       "    </tr>\n",
       "    <tr>\n",
       "      <th>Country</th>\n",
       "      <th></th>\n",
       "      <th></th>\n",
       "      <th></th>\n",
       "      <th></th>\n",
       "      <th></th>\n",
       "      <th></th>\n",
       "    </tr>\n",
       "  </thead>\n",
       "  <tbody>\n",
       "    <tr>\n",
       "      <th>United Kingdom</th>\n",
       "      <td>0.14</td>\n",
       "      <td>0.42</td>\n",
       "      <td>0.15</td>\n",
       "      <td>0.04</td>\n",
       "      <td>0.23</td>\n",
       "      <td>0.02</td>\n",
       "    </tr>\n",
       "    <tr>\n",
       "      <th>Ireland</th>\n",
       "      <td>0.22</td>\n",
       "      <td>0.46</td>\n",
       "      <td>0.11</td>\n",
       "      <td>0.04</td>\n",
       "      <td>0.17</td>\n",
       "      <td>0.00</td>\n",
       "    </tr>\n",
       "    <tr>\n",
       "      <th>Spain</th>\n",
       "      <td>0.08</td>\n",
       "      <td>0.40</td>\n",
       "      <td>0.17</td>\n",
       "      <td>0.07</td>\n",
       "      <td>0.26</td>\n",
       "      <td>0.02</td>\n",
       "    </tr>\n",
       "    <tr>\n",
       "      <th>Greece</th>\n",
       "      <td>0.02</td>\n",
       "      <td>0.08</td>\n",
       "      <td>0.39</td>\n",
       "      <td>0.26</td>\n",
       "      <td>0.25</td>\n",
       "      <td>0.00</td>\n",
       "    </tr>\n",
       "    <tr>\n",
       "      <th>Latvia</th>\n",
       "      <td>0.03</td>\n",
       "      <td>0.13</td>\n",
       "      <td>0.42</td>\n",
       "      <td>0.19</td>\n",
       "      <td>0.19</td>\n",
       "      <td>0.04</td>\n",
       "    </tr>\n",
       "  </tbody>\n",
       "</table>\n",
       "</div>"
      ],
      "text/plain": [
       "                Strongly agree  Agree  Disagree  Strongly disagree  \\\n",
       "Country                                                              \n",
       "United Kingdom            0.14   0.42      0.15               0.04   \n",
       "Ireland                   0.22   0.46      0.11               0.04   \n",
       "Spain                     0.08   0.40      0.17               0.07   \n",
       "Greece                    0.02   0.08      0.39               0.26   \n",
       "Latvia                    0.03   0.13      0.42               0.19   \n",
       "\n",
       "                Neither agree nor disagree  Don’t know  \n",
       "Country                                                 \n",
       "United Kingdom                        0.23        0.02  \n",
       "Ireland                               0.17        0.00  \n",
       "Spain                                 0.26        0.02  \n",
       "Greece                                0.25        0.00  \n",
       "Latvia                                0.19        0.04  "
      ]
     },
     "metadata": {},
     "output_type": "display_data"
    }
   ],
   "source": [
    "df_migration_to_my_country = read_data_from_csv(filename='immigration_into_our_country_is_a_good_thing')\n",
    "display(df_migration_to_my_country.sample(5))"
   ]
  },
  {
   "cell_type": "code",
   "execution_count": 31,
   "metadata": {},
   "outputs": [
    {
     "name": "stdout",
     "output_type": "stream",
     "text": [
      "Percent of people who think that immigration into their country is good\n"
     ]
    },
    {
     "data": {
      "text/plain": [
       "Country\n",
       "Sweden            0.69\n",
       "Ireland           0.68\n",
       "Luxemburg         0.63\n",
       "United Kingdom    0.56\n",
       "Portugal          0.50\n",
       "dtype: float64"
      ]
     },
     "metadata": {},
     "output_type": "display_data"
    },
    {
     "name": "stdout",
     "output_type": "stream",
     "text": [
      "Percent of people who think that immigration into their country is bad\n"
     ]
    },
    {
     "data": {
      "text/plain": [
       "Country\n",
       "Greece            0.10\n",
       "Slovakia          0.11\n",
       "Bulgaria          0.12\n",
       "Czech Republic    0.14\n",
       "Hungary           0.15\n",
       "dtype: float64"
      ]
     },
     "metadata": {},
     "output_type": "display_data"
    }
   ],
   "source": [
    "print('Percent of people who think that immigration into their country is good')\n",
    "display(df_migration_to_my_country.iloc[:, 0:2].sum(axis=1).sort_values(ascending=False).head(5))\n",
    "\n",
    "print('Percent of people who think that immigration into their country is bad')\n",
    "display(df_migration_to_my_country.iloc[:, 0:2].sum(axis=1).sort_values(ascending=True).head(5))"
   ]
  },
  {
   "cell_type": "markdown",
   "metadata": {},
   "source": [
    "Let's visualize how it looks for:\n",
    "- Sweden- the largest number of people agreeing with the thesis\n",
    "- Greece- the smallest number of people agreeing with the thesis <br>\n",
    "where thesis is _\"Immigration into my country is a good thing\"_\n",
    "\n",
    "But before it, I will sum up values for \"Agree\" and \"Strongly agree\" and respectively for \"Disagree\" and \"Strongly disagree\"."
   ]
  },
  {
   "cell_type": "code",
   "execution_count": 32,
   "metadata": {},
   "outputs": [],
   "source": [
    "df_migration_to_my_country_with_summed_values = df_migration_to_my_country[\n",
    "    ['Neither agree nor disagree', 'Don’t know']].copy()\n",
    "df_migration_to_my_country_with_summed_values['Summed agree'] = df_migration_to_my_country['Strongly agree'] + \\\n",
    "                                                                df_migration_to_my_country['Agree']\n",
    "df_migration_to_my_country_with_summed_values['Summed disagree'] = df_migration_to_my_country['Strongly disagree'] + \\\n",
    "                                                                   df_migration_to_my_country['Disagree']"
   ]
  },
  {
   "cell_type": "code",
   "execution_count": 33,
   "metadata": {},
   "outputs": [
    {
     "data": {
      "image/png": "[encoded data removed]",
      "text/plain": [
       "<Figure size 432x288 with 1 Axes>"
      ]
     },
     "metadata": {},
     "output_type": "display_data"
    }
   ],
   "source": [
    "visualize_data_on_pie_chart('Sweden', df_migration_to_my_country_with_summed_values)"
   ]
  },
  {
   "cell_type": "code",
   "execution_count": 34,
   "metadata": {},
   "outputs": [
    {
     "data": {
      "image/png": "[encoded data removed]",
      "text/plain": [
       "<Figure size 432x288 with 1 Axes>"
      ]
     },
     "metadata": {},
     "output_type": "display_data"
    }
   ],
   "source": [
    "visualize_data_on_pie_chart('Greece', df_migration_to_my_country_with_summed_values)"
   ]
  },
  {
   "cell_type": "markdown",
   "metadata": {},
   "source": [
    "It looks like Sweden and Greece have almost opposite values for:\n",
    "- _Summed agree_\n",
    "- _Summed disagree_"
   ]
  },
  {
   "cell_type": "markdown",
   "metadata": {},
   "source": [
    "What is worth noting, Greece hasn't got possitive attitude towards immigration into their country. \n",
    "Maybe it is caused by bad feelings related to the frequent integration with immigrants (see: \"Interaction frequency with immigrants\")"
   ]
  },
  {
   "cell_type": "markdown",
   "metadata": {},
   "source": [
    "## Religious denomination"
   ]
  },
  {
   "cell_type": "markdown",
   "metadata": {},
   "source": [
    "### Christians"
   ]
  },
  {
   "cell_type": "markdown",
   "metadata": {},
   "source": [
    "It shows how many Christians live in each country. <br>\n",
    "Intervals (representing population of Christians in percents, where 1 is 100%) will be changed to mean value (based on the lowest and the highest value)."
   ]
  },
  {
   "cell_type": "code",
   "execution_count": 35,
   "metadata": {},
   "outputs": [
    {
     "data": {
      "text/html": [
       "<div>\n",
       "<style scoped>\n",
       "    .dataframe tbody tr th:only-of-type {\n",
       "        vertical-align: middle;\n",
       "    }\n",
       "\n",
       "    .dataframe tbody tr th {\n",
       "        vertical-align: top;\n",
       "    }\n",
       "\n",
       "    .dataframe thead th {\n",
       "        text-align: right;\n",
       "    }\n",
       "</style>\n",
       "<table border=\"1\" class=\"dataframe\">\n",
       "  <thead>\n",
       "    <tr style=\"text-align: right;\">\n",
       "      <th></th>\n",
       "      <th>Christians</th>\n",
       "    </tr>\n",
       "    <tr>\n",
       "      <th>Country</th>\n",
       "      <th></th>\n",
       "    </tr>\n",
       "  </thead>\n",
       "  <tbody>\n",
       "    <tr>\n",
       "      <th>Germany</th>\n",
       "      <td>0.6-0.7</td>\n",
       "    </tr>\n",
       "    <tr>\n",
       "      <th>Ireland</th>\n",
       "      <td>0.9-0.95</td>\n",
       "    </tr>\n",
       "    <tr>\n",
       "      <th>Czech Republic</th>\n",
       "      <td>0.2-0.3</td>\n",
       "    </tr>\n",
       "    <tr>\n",
       "      <th>Croatia</th>\n",
       "      <td>0.9-0.95</td>\n",
       "    </tr>\n",
       "    <tr>\n",
       "      <th>Spain</th>\n",
       "      <td>0.7-0.8</td>\n",
       "    </tr>\n",
       "  </tbody>\n",
       "</table>\n",
       "</div>"
      ],
      "text/plain": [
       "               Christians\n",
       "Country                  \n",
       "Germany           0.6-0.7\n",
       "Ireland          0.9-0.95\n",
       "Czech Republic    0.2-0.3\n",
       "Croatia          0.9-0.95\n",
       "Spain             0.7-0.8"
      ]
     },
     "metadata": {},
     "output_type": "display_data"
    }
   ],
   "source": [
    "df_christians = read_data_from_csv(filename='christianity')\n",
    "display(df_christians.sample(5))"
   ]
  },
  {
   "cell_type": "markdown",
   "metadata": {},
   "source": [
    "#### Intervals preprocessing"
   ]
  },
  {
   "cell_type": "code",
   "execution_count": 36,
   "metadata": {},
   "outputs": [],
   "source": [
    "df_christians = change_interval_to_mean_value_in_all_columns(df_christians)"
   ]
  },
  {
   "cell_type": "markdown",
   "metadata": {},
   "source": [
    "How it looks now?"
   ]
  },
  {
   "cell_type": "code",
   "execution_count": 37,
   "metadata": {},
   "outputs": [
    {
     "data": {
      "text/html": [
       "<div>\n",
       "<style scoped>\n",
       "    .dataframe tbody tr th:only-of-type {\n",
       "        vertical-align: middle;\n",
       "    }\n",
       "\n",
       "    .dataframe tbody tr th {\n",
       "        vertical-align: top;\n",
       "    }\n",
       "\n",
       "    .dataframe thead th {\n",
       "        text-align: right;\n",
       "    }\n",
       "</style>\n",
       "<table border=\"1\" class=\"dataframe\">\n",
       "  <thead>\n",
       "    <tr style=\"text-align: right;\">\n",
       "      <th></th>\n",
       "      <th>Christians</th>\n",
       "    </tr>\n",
       "    <tr>\n",
       "      <th>Country</th>\n",
       "      <th></th>\n",
       "    </tr>\n",
       "  </thead>\n",
       "  <tbody>\n",
       "    <tr>\n",
       "      <th>Croatia</th>\n",
       "      <td>0.925</td>\n",
       "    </tr>\n",
       "    <tr>\n",
       "      <th>Cyprus</th>\n",
       "      <td>0.750</td>\n",
       "    </tr>\n",
       "    <tr>\n",
       "      <th>Slovakia</th>\n",
       "      <td>0.850</td>\n",
       "    </tr>\n",
       "    <tr>\n",
       "      <th>Estonia</th>\n",
       "      <td>0.350</td>\n",
       "    </tr>\n",
       "    <tr>\n",
       "      <th>Ireland</th>\n",
       "      <td>0.925</td>\n",
       "    </tr>\n",
       "  </tbody>\n",
       "</table>\n",
       "</div>"
      ],
      "text/plain": [
       "          Christians\n",
       "Country             \n",
       "Croatia        0.925\n",
       "Cyprus         0.750\n",
       "Slovakia       0.850\n",
       "Estonia        0.350\n",
       "Ireland        0.925"
      ]
     },
     "metadata": {},
     "output_type": "display_data"
    }
   ],
   "source": [
    "display(df_christians.sample(5))"
   ]
  },
  {
   "cell_type": "markdown",
   "metadata": {},
   "source": [
    "### Muslims"
   ]
  },
  {
   "cell_type": "markdown",
   "metadata": {},
   "source": [
    "It shows how many Muslims live in each country. <br>\n",
    "Intervals (representing population of Muslims in percents, where 1 is 100%) will be changed to mean value (based on the lowest and the highest value)."
   ]
  },
  {
   "cell_type": "code",
   "execution_count": 38,
   "metadata": {},
   "outputs": [
    {
     "data": {
      "text/html": [
       "<div>\n",
       "<style scoped>\n",
       "    .dataframe tbody tr th:only-of-type {\n",
       "        vertical-align: middle;\n",
       "    }\n",
       "\n",
       "    .dataframe tbody tr th {\n",
       "        vertical-align: top;\n",
       "    }\n",
       "\n",
       "    .dataframe thead th {\n",
       "        text-align: right;\n",
       "    }\n",
       "</style>\n",
       "<table border=\"1\" class=\"dataframe\">\n",
       "  <thead>\n",
       "    <tr style=\"text-align: right;\">\n",
       "      <th></th>\n",
       "      <th>Muslims</th>\n",
       "    </tr>\n",
       "    <tr>\n",
       "      <th>Country</th>\n",
       "      <th></th>\n",
       "    </tr>\n",
       "  </thead>\n",
       "  <tbody>\n",
       "    <tr>\n",
       "      <th>Croatia</th>\n",
       "      <td>0.01-0.02</td>\n",
       "    </tr>\n",
       "    <tr>\n",
       "      <th>Ireland</th>\n",
       "      <td>0.01-0.02</td>\n",
       "    </tr>\n",
       "    <tr>\n",
       "      <th>Luxemburg</th>\n",
       "      <td>0.02-0.04</td>\n",
       "    </tr>\n",
       "    <tr>\n",
       "      <th>Estonia</th>\n",
       "      <td>0-0.01</td>\n",
       "    </tr>\n",
       "    <tr>\n",
       "      <th>Italy</th>\n",
       "      <td>0.04-0.05</td>\n",
       "    </tr>\n",
       "  </tbody>\n",
       "</table>\n",
       "</div>"
      ],
      "text/plain": [
       "             Muslims\n",
       "Country             \n",
       "Croatia    0.01-0.02\n",
       "Ireland    0.01-0.02\n",
       "Luxemburg  0.02-0.04\n",
       "Estonia       0-0.01\n",
       "Italy      0.04-0.05"
      ]
     },
     "metadata": {},
     "output_type": "display_data"
    }
   ],
   "source": [
    "df_muslims = read_data_from_csv(filename='islam')\n",
    "display(df_muslims.sample(5))"
   ]
  },
  {
   "cell_type": "markdown",
   "metadata": {},
   "source": [
    "#### Intervals preprocessing"
   ]
  },
  {
   "cell_type": "code",
   "execution_count": 39,
   "metadata": {},
   "outputs": [],
   "source": [
    "df_muslims = change_interval_to_mean_value_in_all_columns(df_muslims)"
   ]
  },
  {
   "cell_type": "markdown",
   "metadata": {},
   "source": [
    "How it looks now?"
   ]
  },
  {
   "cell_type": "code",
   "execution_count": 40,
   "metadata": {},
   "outputs": [
    {
     "data": {
      "text/html": [
       "<div>\n",
       "<style scoped>\n",
       "    .dataframe tbody tr th:only-of-type {\n",
       "        vertical-align: middle;\n",
       "    }\n",
       "\n",
       "    .dataframe tbody tr th {\n",
       "        vertical-align: top;\n",
       "    }\n",
       "\n",
       "    .dataframe thead th {\n",
       "        text-align: right;\n",
       "    }\n",
       "</style>\n",
       "<table border=\"1\" class=\"dataframe\">\n",
       "  <thead>\n",
       "    <tr style=\"text-align: right;\">\n",
       "      <th></th>\n",
       "      <th>Muslims</th>\n",
       "    </tr>\n",
       "    <tr>\n",
       "      <th>Country</th>\n",
       "      <th></th>\n",
       "    </tr>\n",
       "  </thead>\n",
       "  <tbody>\n",
       "    <tr>\n",
       "      <th>Lithuania</th>\n",
       "      <td>0.005</td>\n",
       "    </tr>\n",
       "    <tr>\n",
       "      <th>Latvia</th>\n",
       "      <td>0.005</td>\n",
       "    </tr>\n",
       "    <tr>\n",
       "      <th>Bulgaria</th>\n",
       "      <td>0.150</td>\n",
       "    </tr>\n",
       "    <tr>\n",
       "      <th>Cyprus</th>\n",
       "      <td>0.150</td>\n",
       "    </tr>\n",
       "    <tr>\n",
       "      <th>Luxemburg</th>\n",
       "      <td>0.030</td>\n",
       "    </tr>\n",
       "  </tbody>\n",
       "</table>\n",
       "</div>"
      ],
      "text/plain": [
       "           Muslims\n",
       "Country           \n",
       "Lithuania    0.005\n",
       "Latvia       0.005\n",
       "Bulgaria     0.150\n",
       "Cyprus       0.150\n",
       "Luxemburg    0.030"
      ]
     },
     "metadata": {},
     "output_type": "display_data"
    }
   ],
   "source": [
    "display(df_muslims.sample(5))"
   ]
  },
  {
   "cell_type": "markdown",
   "metadata": {},
   "source": [
    "### Jews"
   ]
  },
  {
   "cell_type": "markdown",
   "metadata": {},
   "source": [
    "It shows how many Jews live in each country. <br>\n",
    "Intervals (representing population of Jews in percents, where 1 is 100%) will be changed to mean value (based on the lowest and the highest value)."
   ]
  },
  {
   "cell_type": "code",
   "execution_count": 41,
   "metadata": {},
   "outputs": [
    {
     "data": {
      "text/html": [
       "<div>\n",
       "<style scoped>\n",
       "    .dataframe tbody tr th:only-of-type {\n",
       "        vertical-align: middle;\n",
       "    }\n",
       "\n",
       "    .dataframe tbody tr th {\n",
       "        vertical-align: top;\n",
       "    }\n",
       "\n",
       "    .dataframe thead th {\n",
       "        text-align: right;\n",
       "    }\n",
       "</style>\n",
       "<table border=\"1\" class=\"dataframe\">\n",
       "  <thead>\n",
       "    <tr style=\"text-align: right;\">\n",
       "      <th></th>\n",
       "      <th>Jews</th>\n",
       "    </tr>\n",
       "    <tr>\n",
       "      <th>Country</th>\n",
       "      <th></th>\n",
       "    </tr>\n",
       "  </thead>\n",
       "  <tbody>\n",
       "    <tr>\n",
       "      <th>Ireland</th>\n",
       "      <td>0-0.001</td>\n",
       "    </tr>\n",
       "    <tr>\n",
       "      <th>Sweden</th>\n",
       "      <td>0.001-0.005</td>\n",
       "    </tr>\n",
       "    <tr>\n",
       "      <th>Belgium</th>\n",
       "      <td>0.001-0.005</td>\n",
       "    </tr>\n",
       "    <tr>\n",
       "      <th>Croatia</th>\n",
       "      <td>0-0.001</td>\n",
       "    </tr>\n",
       "    <tr>\n",
       "      <th>Germany</th>\n",
       "      <td>0.001-0.005</td>\n",
       "    </tr>\n",
       "  </tbody>\n",
       "</table>\n",
       "</div>"
      ],
      "text/plain": [
       "                Jews\n",
       "Country             \n",
       "Ireland      0-0.001\n",
       "Sweden   0.001-0.005\n",
       "Belgium  0.001-0.005\n",
       "Croatia      0-0.001\n",
       "Germany  0.001-0.005"
      ]
     },
     "metadata": {},
     "output_type": "display_data"
    }
   ],
   "source": [
    "df_jews = read_data_from_csv(filename='jews')\n",
    "display(df_jews.sample(5))"
   ]
  },
  {
   "cell_type": "markdown",
   "metadata": {},
   "source": [
    "#### Intervals preprocessing"
   ]
  },
  {
   "cell_type": "code",
   "execution_count": 42,
   "metadata": {},
   "outputs": [],
   "source": [
    "df_jews = change_interval_to_mean_value_in_all_columns(df_jews)"
   ]
  },
  {
   "cell_type": "markdown",
   "metadata": {},
   "source": [
    "How it looks now?"
   ]
  },
  {
   "cell_type": "code",
   "execution_count": 43,
   "metadata": {},
   "outputs": [
    {
     "data": {
      "text/html": [
       "<div>\n",
       "<style scoped>\n",
       "    .dataframe tbody tr th:only-of-type {\n",
       "        vertical-align: middle;\n",
       "    }\n",
       "\n",
       "    .dataframe tbody tr th {\n",
       "        vertical-align: top;\n",
       "    }\n",
       "\n",
       "    .dataframe thead th {\n",
       "        text-align: right;\n",
       "    }\n",
       "</style>\n",
       "<table border=\"1\" class=\"dataframe\">\n",
       "  <thead>\n",
       "    <tr style=\"text-align: right;\">\n",
       "      <th></th>\n",
       "      <th>Jews</th>\n",
       "    </tr>\n",
       "    <tr>\n",
       "      <th>Country</th>\n",
       "      <th></th>\n",
       "    </tr>\n",
       "  </thead>\n",
       "  <tbody>\n",
       "    <tr>\n",
       "      <th>Germany</th>\n",
       "      <td>0.0030</td>\n",
       "    </tr>\n",
       "    <tr>\n",
       "      <th>Czech Republic</th>\n",
       "      <td>0.0005</td>\n",
       "    </tr>\n",
       "    <tr>\n",
       "      <th>France</th>\n",
       "      <td>0.0075</td>\n",
       "    </tr>\n",
       "    <tr>\n",
       "      <th>Greece</th>\n",
       "      <td>0.0005</td>\n",
       "    </tr>\n",
       "    <tr>\n",
       "      <th>Slovenia</th>\n",
       "      <td>0.0005</td>\n",
       "    </tr>\n",
       "  </tbody>\n",
       "</table>\n",
       "</div>"
      ],
      "text/plain": [
       "                  Jews\n",
       "Country               \n",
       "Germany         0.0030\n",
       "Czech Republic  0.0005\n",
       "France          0.0075\n",
       "Greece          0.0005\n",
       "Slovenia        0.0005"
      ]
     },
     "metadata": {},
     "output_type": "display_data"
    }
   ],
   "source": [
    "display(df_jews.sample(5))"
   ]
  },
  {
   "cell_type": "markdown",
   "metadata": {},
   "source": [
    "All data related to religious denomination gathered in one place.\n",
    "Due to sum per row lower than 1 (caused by other, not included religious denominations), values are normalized to 0-1."
   ]
  },
  {
   "cell_type": "code",
   "execution_count": 44,
   "metadata": {},
   "outputs": [
    {
     "data": {
      "text/html": [
       "<div>\n",
       "<style scoped>\n",
       "    .dataframe tbody tr th:only-of-type {\n",
       "        vertical-align: middle;\n",
       "    }\n",
       "\n",
       "    .dataframe tbody tr th {\n",
       "        vertical-align: top;\n",
       "    }\n",
       "\n",
       "    .dataframe thead th {\n",
       "        text-align: right;\n",
       "    }\n",
       "</style>\n",
       "<table border=\"1\" class=\"dataframe\">\n",
       "  <thead>\n",
       "    <tr style=\"text-align: right;\">\n",
       "      <th></th>\n",
       "      <th>Christians</th>\n",
       "      <th>Muslims</th>\n",
       "      <th>Jews</th>\n",
       "    </tr>\n",
       "    <tr>\n",
       "      <th>Country</th>\n",
       "      <th></th>\n",
       "      <th></th>\n",
       "      <th></th>\n",
       "    </tr>\n",
       "  </thead>\n",
       "  <tbody>\n",
       "    <tr>\n",
       "      <th>Estonia</th>\n",
       "      <td>0.977654</td>\n",
       "      <td>0.013966</td>\n",
       "      <td>0.008380</td>\n",
       "    </tr>\n",
       "    <tr>\n",
       "      <th>Greece</th>\n",
       "      <td>0.918422</td>\n",
       "      <td>0.081037</td>\n",
       "      <td>0.000540</td>\n",
       "    </tr>\n",
       "    <tr>\n",
       "      <th>Romania</th>\n",
       "      <td>0.994391</td>\n",
       "      <td>0.005099</td>\n",
       "      <td>0.000510</td>\n",
       "    </tr>\n",
       "    <tr>\n",
       "      <th>Slovenia</th>\n",
       "      <td>0.960922</td>\n",
       "      <td>0.038437</td>\n",
       "      <td>0.000641</td>\n",
       "    </tr>\n",
       "    <tr>\n",
       "      <th>Belgium</th>\n",
       "      <td>0.892857</td>\n",
       "      <td>0.103022</td>\n",
       "      <td>0.004121</td>\n",
       "    </tr>\n",
       "  </tbody>\n",
       "</table>\n",
       "</div>"
      ],
      "text/plain": [
       "          Christians   Muslims      Jews\n",
       "Country                                 \n",
       "Estonia     0.977654  0.013966  0.008380\n",
       "Greece      0.918422  0.081037  0.000540\n",
       "Romania     0.994391  0.005099  0.000510\n",
       "Slovenia    0.960922  0.038437  0.000641\n",
       "Belgium     0.892857  0.103022  0.004121"
      ]
     },
     "metadata": {},
     "output_type": "display_data"
    }
   ],
   "source": [
    "df_religious_denomination = pd.concat([\n",
    "    df_christians.copy(),\n",
    "    df_muslims.copy(),\n",
    "    df_jews.copy()\n",
    "], sort=False, axis=1)\n",
    "\n",
    "df_religious_denomination = df_religious_denomination.div(df_religious_denomination.sum(axis=1), axis=0)\n",
    "display(df_religious_denomination.sample(5))"
   ]
  },
  {
   "cell_type": "code",
   "execution_count": 45,
   "metadata": {},
   "outputs": [
    {
     "name": "stdout",
     "output_type": "stream",
     "text": [
      "Religious denominations: max number of percents and one of countries with this value:\n",
      "CHRISTIANS: 97.5% of population e.g. in Malta\n",
      "MUSLIMS: 15.000000000000002% of population e.g. in Bulgaria\n",
      "JEWS: 0.75% of population e.g. in France\n"
     ]
    }
   ],
   "source": [
    "christians = df_christians['Christians'].idxmax(), df_christians['Christians'].max()\n",
    "muslims = df_muslims['Muslims'].idxmax(), df_muslims['Muslims'].max()\n",
    "jews = df_jews['Jews'].idxmax(), df_jews['Jews'].max()\n",
    "print('Religious denominations: max number of percents and one of countries with this value:')\n",
    "print(f\"CHRISTIANS: {christians[1] * 100}% of population e.g. in {christians[0]}\")\n",
    "print(f\"MUSLIMS: {muslims[1] * 100}% of population e.g. in {muslims[0]}\")\n",
    "print(f\"JEWS: {jews[1] * 100}% of population e.g. in {jews[0]}\")"
   ]
  },
  {
   "cell_type": "markdown",
   "metadata": {},
   "source": [
    "Christianity is the most popular religious denomination in EU. Differences between population of Christians, Muslims and Jews in EU are huge."
   ]
  },
  {
   "cell_type": "markdown",
   "metadata": {},
   "source": [
    "## Race"
   ]
  },
  {
   "cell_type": "markdown",
   "metadata": {},
   "source": [
    "### Black people\n",
    "I have found that about 12 million of black people live in Europe. \n",
    "I haven't found value for 16 out of 28 countries so I decided to fill it to: <br> <br>\n",
    "$$\\frac{\\text{number of black people in EU - number of black people for 12 countries}}{\\text{number of countries with missing value}}$$\n",
    "\n"
   ]
  },
  {
   "cell_type": "code",
   "execution_count": 46,
   "metadata": {},
   "outputs": [],
   "source": [
    "df_black_people = read_data_from_csv(filename='black_people')"
   ]
  },
  {
   "cell_type": "markdown",
   "metadata": {},
   "source": [
    "Preprocesing:\n",
    "- fill Nan values\n",
    "- round to int"
   ]
  },
  {
   "cell_type": "code",
   "execution_count": 47,
   "metadata": {},
   "outputs": [],
   "source": [
    "NUMBER_OF_BLACK_PEOPLE_IN_EUROPE = 12000000\n",
    "nan_values_num = df_black_people.isnull().values.sum()\n",
    "value_to_fill = (NUMBER_OF_BLACK_PEOPLE_IN_EUROPE - df_black_people.sum()) / nan_values_num\n",
    "df_black_people.fillna(value_to_fill, inplace=True)\n",
    "df_black_people = df_black_people.round()"
   ]
  },
  {
   "cell_type": "markdown",
   "metadata": {},
   "source": [
    "How it looks now?"
   ]
  },
  {
   "cell_type": "code",
   "execution_count": 48,
   "metadata": {},
   "outputs": [
    {
     "data": {
      "text/html": [
       "<div>\n",
       "<style scoped>\n",
       "    .dataframe tbody tr th:only-of-type {\n",
       "        vertical-align: middle;\n",
       "    }\n",
       "\n",
       "    .dataframe tbody tr th {\n",
       "        vertical-align: top;\n",
       "    }\n",
       "\n",
       "    .dataframe thead th {\n",
       "        text-align: right;\n",
       "    }\n",
       "</style>\n",
       "<table border=\"1\" class=\"dataframe\">\n",
       "  <thead>\n",
       "    <tr style=\"text-align: right;\">\n",
       "      <th></th>\n",
       "      <th>Black people</th>\n",
       "    </tr>\n",
       "    <tr>\n",
       "      <th>Country</th>\n",
       "      <th></th>\n",
       "    </tr>\n",
       "  </thead>\n",
       "  <tbody>\n",
       "    <tr>\n",
       "      <th>United Kingdom</th>\n",
       "      <td>2500000.0</td>\n",
       "    </tr>\n",
       "    <tr>\n",
       "      <th>Netherlands</th>\n",
       "      <td>700000.0</td>\n",
       "    </tr>\n",
       "    <tr>\n",
       "      <th>Lithuania</th>\n",
       "      <td>131973.0</td>\n",
       "    </tr>\n",
       "    <tr>\n",
       "      <th>France</th>\n",
       "      <td>3000000.0</td>\n",
       "    </tr>\n",
       "    <tr>\n",
       "      <th>Denmark</th>\n",
       "      <td>131973.0</td>\n",
       "    </tr>\n",
       "  </tbody>\n",
       "</table>\n",
       "</div>"
      ],
      "text/plain": [
       "                Black people\n",
       "Country                     \n",
       "United Kingdom     2500000.0\n",
       "Netherlands         700000.0\n",
       "Lithuania           131973.0\n",
       "France             3000000.0\n",
       "Denmark             131973.0"
      ]
     },
     "metadata": {},
     "output_type": "display_data"
    }
   ],
   "source": [
    "display(df_black_people.sample(5))"
   ]
  },
  {
   "cell_type": "markdown",
   "metadata": {},
   "source": [
    "### Asian people\n",
    "I haven't found any reliable information related to Asian population in EU so I decided to set it to 2% of population in each country. <br>\n",
    "Maybe for some places it is a huge number but I believe it will equalize at all."
   ]
  },
  {
   "cell_type": "code",
   "execution_count": 49,
   "metadata": {},
   "outputs": [],
   "source": [
    "df_asian_people = df_population.copy()\n",
    "df_asian_people['Population'] = df_asian_people['Population'] * 0.02\n",
    "df_asian_people.rename(columns={'Population': 'Asian people'}, inplace=True)\n",
    "df_asian_people = df_asian_people.round()"
   ]
  },
  {
   "cell_type": "code",
   "execution_count": 50,
   "metadata": {},
   "outputs": [
    {
     "data": {
      "text/html": [
       "<div>\n",
       "<style scoped>\n",
       "    .dataframe tbody tr th:only-of-type {\n",
       "        vertical-align: middle;\n",
       "    }\n",
       "\n",
       "    .dataframe tbody tr th {\n",
       "        vertical-align: top;\n",
       "    }\n",
       "\n",
       "    .dataframe thead th {\n",
       "        text-align: right;\n",
       "    }\n",
       "</style>\n",
       "<table border=\"1\" class=\"dataframe\">\n",
       "  <thead>\n",
       "    <tr style=\"text-align: right;\">\n",
       "      <th></th>\n",
       "      <th>Asian people</th>\n",
       "    </tr>\n",
       "    <tr>\n",
       "      <th>Country</th>\n",
       "      <th></th>\n",
       "    </tr>\n",
       "  </thead>\n",
       "  <tbody>\n",
       "    <tr>\n",
       "      <th>Estonia</th>\n",
       "      <td>26319.0</td>\n",
       "    </tr>\n",
       "    <tr>\n",
       "      <th>Croatia</th>\n",
       "      <td>83813.0</td>\n",
       "    </tr>\n",
       "    <tr>\n",
       "      <th>Luxemburg</th>\n",
       "      <td>11525.0</td>\n",
       "    </tr>\n",
       "    <tr>\n",
       "      <th>Portugal</th>\n",
       "      <td>206827.0</td>\n",
       "    </tr>\n",
       "    <tr>\n",
       "      <th>Malta</th>\n",
       "      <td>8688.0</td>\n",
       "    </tr>\n",
       "  </tbody>\n",
       "</table>\n",
       "</div>"
      ],
      "text/plain": [
       "           Asian people\n",
       "Country                \n",
       "Estonia         26319.0\n",
       "Croatia         83813.0\n",
       "Luxemburg       11525.0\n",
       "Portugal       206827.0\n",
       "Malta            8688.0"
      ]
     },
     "metadata": {},
     "output_type": "display_data"
    }
   ],
   "source": [
    "display(df_asian_people.sample(5))"
   ]
  },
  {
   "cell_type": "markdown",
   "metadata": {},
   "source": [
    "### White people\n",
    "I don't want to introduce confusion because of other races than black, asian and white people in EU so I decided to set the rest of population to white."
   ]
  },
  {
   "cell_type": "code",
   "execution_count": 51,
   "metadata": {},
   "outputs": [],
   "source": [
    "df_white_people = df_population.copy()\n",
    "df_white_people['Population'] = df_white_people['Population'] - (\n",
    "            df_black_people['Black people'] + df_asian_people['Asian people'])\n",
    "df_white_people.rename(columns={'Population': 'White people'}, inplace=True)\n",
    "df_white_people = df_white_people.round()"
   ]
  },
  {
   "cell_type": "code",
   "execution_count": 52,
   "metadata": {},
   "outputs": [
    {
     "data": {
      "text/html": [
       "<div>\n",
       "<style scoped>\n",
       "    .dataframe tbody tr th:only-of-type {\n",
       "        vertical-align: middle;\n",
       "    }\n",
       "\n",
       "    .dataframe tbody tr th {\n",
       "        vertical-align: top;\n",
       "    }\n",
       "\n",
       "    .dataframe thead th {\n",
       "        text-align: right;\n",
       "    }\n",
       "</style>\n",
       "<table border=\"1\" class=\"dataframe\">\n",
       "  <thead>\n",
       "    <tr style=\"text-align: right;\">\n",
       "      <th></th>\n",
       "      <th>White people</th>\n",
       "    </tr>\n",
       "    <tr>\n",
       "      <th>Country</th>\n",
       "      <th></th>\n",
       "    </tr>\n",
       "  </thead>\n",
       "  <tbody>\n",
       "    <tr>\n",
       "      <th>Portugal</th>\n",
       "      <td>9984503.0</td>\n",
       "    </tr>\n",
       "    <tr>\n",
       "      <th>Belgium</th>\n",
       "      <td>10164056.0</td>\n",
       "    </tr>\n",
       "    <tr>\n",
       "      <th>Ireland</th>\n",
       "      <td>4564055.0</td>\n",
       "    </tr>\n",
       "    <tr>\n",
       "      <th>Finland</th>\n",
       "      <td>5328813.0</td>\n",
       "    </tr>\n",
       "    <tr>\n",
       "      <th>Sweden</th>\n",
       "      <td>9503997.0</td>\n",
       "    </tr>\n",
       "  </tbody>\n",
       "</table>\n",
       "</div>"
      ],
      "text/plain": [
       "          White people\n",
       "Country               \n",
       "Portugal     9984503.0\n",
       "Belgium     10164056.0\n",
       "Ireland      4564055.0\n",
       "Finland      5328813.0\n",
       "Sweden       9503997.0"
      ]
     },
     "metadata": {},
     "output_type": "display_data"
    }
   ],
   "source": [
    "display(df_white_people.sample(5))"
   ]
  },
  {
   "cell_type": "markdown",
   "metadata": {},
   "source": [
    "All data related to race gathered in one place.\n",
    "Due to storing number of people, values are diveded by population in country to obtain percentage share in the population."
   ]
  },
  {
   "cell_type": "code",
   "execution_count": 53,
   "metadata": {},
   "outputs": [
    {
     "data": {
      "text/html": [
       "<div>\n",
       "<style scoped>\n",
       "    .dataframe tbody tr th:only-of-type {\n",
       "        vertical-align: middle;\n",
       "    }\n",
       "\n",
       "    .dataframe tbody tr th {\n",
       "        vertical-align: top;\n",
       "    }\n",
       "\n",
       "    .dataframe thead th {\n",
       "        text-align: right;\n",
       "    }\n",
       "</style>\n",
       "<table border=\"1\" class=\"dataframe\">\n",
       "  <thead>\n",
       "    <tr style=\"text-align: right;\">\n",
       "      <th></th>\n",
       "      <th>Black people</th>\n",
       "      <th>Asian people</th>\n",
       "      <th>White people</th>\n",
       "    </tr>\n",
       "    <tr>\n",
       "      <th>Country</th>\n",
       "      <th></th>\n",
       "      <th></th>\n",
       "      <th></th>\n",
       "    </tr>\n",
       "  </thead>\n",
       "  <tbody>\n",
       "    <tr>\n",
       "      <th>Spain</th>\n",
       "      <td>0.014708</td>\n",
       "      <td>0.02</td>\n",
       "      <td>0.965292</td>\n",
       "    </tr>\n",
       "    <tr>\n",
       "      <th>Netherlands</th>\n",
       "      <td>0.041227</td>\n",
       "      <td>0.02</td>\n",
       "      <td>0.938773</td>\n",
       "    </tr>\n",
       "    <tr>\n",
       "      <th>Poland</th>\n",
       "      <td>0.003476</td>\n",
       "      <td>0.02</td>\n",
       "      <td>0.976524</td>\n",
       "    </tr>\n",
       "    <tr>\n",
       "      <th>France</th>\n",
       "      <td>0.045003</td>\n",
       "      <td>0.02</td>\n",
       "      <td>0.934997</td>\n",
       "    </tr>\n",
       "    <tr>\n",
       "      <th>Italy</th>\n",
       "      <td>0.017077</td>\n",
       "      <td>0.02</td>\n",
       "      <td>0.962923</td>\n",
       "    </tr>\n",
       "  </tbody>\n",
       "</table>\n",
       "</div>"
      ],
      "text/plain": [
       "             Black people  Asian people  White people\n",
       "Country                                              \n",
       "Spain            0.014708          0.02      0.965292\n",
       "Netherlands      0.041227          0.02      0.938773\n",
       "Poland           0.003476          0.02      0.976524\n",
       "France           0.045003          0.02      0.934997\n",
       "Italy            0.017077          0.02      0.962923"
      ]
     },
     "metadata": {},
     "output_type": "display_data"
    }
   ],
   "source": [
    "df_race = pd.concat([\n",
    "    df_black_people.copy(),\n",
    "    df_asian_people.copy(),\n",
    "    df_white_people.copy()\n",
    "], sort=False, axis=1)\n",
    "\n",
    "df_race = df_race.div(df_population.sum(axis=1), axis=0)\n",
    "display(df_race.sample(5))"
   ]
  },
  {
   "cell_type": "markdown",
   "metadata": {},
   "source": [
    "## All data gathered in one place for\n",
    "- agent's attribute\n",
    "- conditions to move to another country <br>\n",
    "\n",
    "and saved to csv file."
   ]
  },
  {
   "cell_type": "code",
   "execution_count": 54,
   "metadata": {},
   "outputs": [],
   "source": [
    "df_conditions = pd.concat([\n",
    "    df_immigrants_to_population.copy(),\n",
    "    df_integration_frequency.copy(),\n",
    "    df_children_relationship.copy(),\n",
    "    df_immigrant_as_your_X.iloc[:, :2].copy(),\n",
    "    df_migration_to_another_country.iloc[:, :2].copy(),\n",
    "    df_migration_to_my_country.iloc[:, :4].copy()\n",
    "], sort=False, axis=1)\n",
    "\n",
    "df_conditions.to_csv('data/conditions.csv', sep=';', encoding='utf-8')"
   ]
  },
  {
   "cell_type": "code",
   "execution_count": 55,
   "metadata": {},
   "outputs": [],
   "source": [
    "df_agents_attributes = pd.concat([\n",
    "    df_country_as_origin_probability.copy(),\n",
    "    df_immigrants_to_population.copy(),\n",
    "    df_religious_denomination.copy(),\n",
    "    df_race.copy()\n",
    "], sort=False, axis=1)\n",
    "\n",
    "df_agents_attributes.to_csv('data/agents_attributes.csv', sep=';', encoding='utf-8')"
   ]
  }
 ],
 "metadata": {
  "kernelspec": {
   "display_name": "Python 3",
   "language": "python",
   "name": "python3"
  },
  "language_info": {
   "codemirror_mode": {
    "name": "ipython",
    "version": 3
   },
   "file_extension": ".py",
   "mimetype": "text/x-python",
   "name": "python",
   "nbconvert_exporter": "python",
   "pygments_lexer": "ipython3",
   "version": "3.6.8"
  }
 },
 "nbformat": 4,
 "nbformat_minor": 2
}
