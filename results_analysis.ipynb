{
 "cells": [
  {
   "cell_type": "markdown",
   "metadata": {},
   "source": [
    "# Migration simulation in EU - results analysis"
   ]
  },
  {
   "cell_type": "markdown",
   "metadata": {},
   "source": [
    "Required properties (**must be the same as in migration_simulation.ipynb!**)."
   ]
  },
  {
   "cell_type": "code",
   "execution_count": 1,
   "metadata": {},
   "outputs": [],
   "source": [
    "countries = ['Austria', 'Belgium', 'Bulgaria', 'Croatia', 'Cyprus', 'Czech Republic', 'Denmark',\n",
    " 'Estonia', 'Finland', 'France', 'Greece', 'Spain', 'Ireland', 'Lithuania', 'Luxemburg', 'Latvia',\n",
    " 'Malta', 'Netherlands', 'Germany', 'Poland', 'Portugal', 'Romania', 'Slovakia', 'Slovenia', 'Sweden',\n",
    " 'Hungary', 'United Kingdom', 'Italy']"
   ]
  },
  {
   "cell_type": "code",
   "execution_count": 2,
   "metadata": {},
   "outputs": [],
   "source": [
    "n_iter = 50"
   ]
  },
  {
   "cell_type": "markdown",
   "metadata": {},
   "source": [
    "## Data loading"
   ]
  },
  {
   "cell_type": "markdown",
   "metadata": {},
   "source": [
    "Load data required for statistics."
   ]
  },
  {
   "cell_type": "code",
   "execution_count": 3,
   "metadata": {},
   "outputs": [],
   "source": [
    "import pandas as pd\n",
    "\n",
    "def read_data_from_csv(filename: str) -> pd.DataFrame:\n",
    "    return pd.read_csv('results/' + filename + '.csv', sep=';')\n",
    "\n",
    "\n",
    "agent_current_countries = read_data_from_csv('current_country')\n",
    "agent_races = read_data_from_csv('race')\n",
    "agent_religious_denomination = read_data_from_csv('religious_denomination')"
   ]
  },
  {
   "cell_type": "markdown",
   "metadata": {},
   "source": [
    "## Analysis"
   ]
  },
  {
   "cell_type": "markdown",
   "metadata": {},
   "source": [
    "### Country"
   ]
  },
  {
   "cell_type": "markdown",
   "metadata": {},
   "source": [
    "Below we can see current country for agents in each step."
   ]
  },
  {
   "cell_type": "code",
   "execution_count": 4,
   "metadata": {},
   "outputs": [
    {
     "data": {
      "text/html": [
       "<div>\n",
       "<style scoped>\n",
       "    .dataframe tbody tr th:only-of-type {\n",
       "        vertical-align: middle;\n",
       "    }\n",
       "\n",
       "    .dataframe tbody tr th {\n",
       "        vertical-align: top;\n",
       "    }\n",
       "\n",
       "    .dataframe thead th {\n",
       "        text-align: right;\n",
       "    }\n",
       "</style>\n",
       "<table border=\"1\" class=\"dataframe\">\n",
       "  <thead>\n",
       "    <tr style=\"text-align: right;\">\n",
       "      <th></th>\n",
       "      <th>0</th>\n",
       "      <th>1</th>\n",
       "      <th>2</th>\n",
       "      <th>3</th>\n",
       "      <th>4</th>\n",
       "      <th>5</th>\n",
       "      <th>6</th>\n",
       "      <th>7</th>\n",
       "      <th>8</th>\n",
       "      <th>9</th>\n",
       "      <th>...</th>\n",
       "      <th>40</th>\n",
       "      <th>41</th>\n",
       "      <th>42</th>\n",
       "      <th>43</th>\n",
       "      <th>44</th>\n",
       "      <th>45</th>\n",
       "      <th>46</th>\n",
       "      <th>47</th>\n",
       "      <th>48</th>\n",
       "      <th>49</th>\n",
       "    </tr>\n",
       "  </thead>\n",
       "  <tbody>\n",
       "    <tr>\n",
       "      <th>0</th>\n",
       "      <td>Slovakia</td>\n",
       "      <td>Hungary</td>\n",
       "      <td>Slovakia</td>\n",
       "      <td>Czech Republic</td>\n",
       "      <td>Austria</td>\n",
       "      <td>Slovakia</td>\n",
       "      <td>Poland</td>\n",
       "      <td>Slovakia</td>\n",
       "      <td>Czech Republic</td>\n",
       "      <td>Poland</td>\n",
       "      <td>...</td>\n",
       "      <td>France</td>\n",
       "      <td>Germany</td>\n",
       "      <td>Czech Republic</td>\n",
       "      <td>Czech Republic</td>\n",
       "      <td>Austria</td>\n",
       "      <td>Slovakia</td>\n",
       "      <td>Slovakia</td>\n",
       "      <td>Slovakia</td>\n",
       "      <td>Poland</td>\n",
       "      <td>Sweden</td>\n",
       "    </tr>\n",
       "    <tr>\n",
       "      <th>1</th>\n",
       "      <td>Poland</td>\n",
       "      <td>Sweden</td>\n",
       "      <td>Sweden</td>\n",
       "      <td>Latvia</td>\n",
       "      <td>Sweden</td>\n",
       "      <td>Sweden</td>\n",
       "      <td>Denmark</td>\n",
       "      <td>Sweden</td>\n",
       "      <td>Denmark</td>\n",
       "      <td>Germany</td>\n",
       "      <td>...</td>\n",
       "      <td>Cyprus</td>\n",
       "      <td>Cyprus</td>\n",
       "      <td>Cyprus</td>\n",
       "      <td>Greece</td>\n",
       "      <td>Cyprus</td>\n",
       "      <td>Greece</td>\n",
       "      <td>Bulgaria</td>\n",
       "      <td>Romania</td>\n",
       "      <td>Romania</td>\n",
       "      <td>Romania</td>\n",
       "    </tr>\n",
       "    <tr>\n",
       "      <th>2</th>\n",
       "      <td>United Kingdom</td>\n",
       "      <td>Germany</td>\n",
       "      <td>Germany</td>\n",
       "      <td>Denmark</td>\n",
       "      <td>Denmark</td>\n",
       "      <td>Denmark</td>\n",
       "      <td>Germany</td>\n",
       "      <td>France</td>\n",
       "      <td>Luxemburg</td>\n",
       "      <td>Belgium</td>\n",
       "      <td>...</td>\n",
       "      <td>United Kingdom</td>\n",
       "      <td>United Kingdom</td>\n",
       "      <td>United Kingdom</td>\n",
       "      <td>France</td>\n",
       "      <td>Germany</td>\n",
       "      <td>Netherlands</td>\n",
       "      <td>Netherlands</td>\n",
       "      <td>Ireland</td>\n",
       "      <td>Belgium</td>\n",
       "      <td>Germany</td>\n",
       "    </tr>\n",
       "    <tr>\n",
       "      <th>3</th>\n",
       "      <td>Sweden</td>\n",
       "      <td>Latvia</td>\n",
       "      <td>Estonia</td>\n",
       "      <td>Latvia</td>\n",
       "      <td>Latvia</td>\n",
       "      <td>Sweden</td>\n",
       "      <td>Poland</td>\n",
       "      <td>Poland</td>\n",
       "      <td>Lithuania</td>\n",
       "      <td>Lithuania</td>\n",
       "      <td>...</td>\n",
       "      <td>Netherlands</td>\n",
       "      <td>Ireland</td>\n",
       "      <td>Belgium</td>\n",
       "      <td>Ireland</td>\n",
       "      <td>Ireland</td>\n",
       "      <td>Netherlands</td>\n",
       "      <td>Ireland</td>\n",
       "      <td>Netherlands</td>\n",
       "      <td>Ireland</td>\n",
       "      <td>Ireland</td>\n",
       "    </tr>\n",
       "    <tr>\n",
       "      <th>4</th>\n",
       "      <td>Czech Republic</td>\n",
       "      <td>Austria</td>\n",
       "      <td>Austria</td>\n",
       "      <td>Austria</td>\n",
       "      <td>Germany</td>\n",
       "      <td>Sweden</td>\n",
       "      <td>Estonia</td>\n",
       "      <td>Latvia</td>\n",
       "      <td>Lithuania</td>\n",
       "      <td>Lithuania</td>\n",
       "      <td>...</td>\n",
       "      <td>Germany</td>\n",
       "      <td>United Kingdom</td>\n",
       "      <td>Netherlands</td>\n",
       "      <td>France</td>\n",
       "      <td>Belgium</td>\n",
       "      <td>Luxemburg</td>\n",
       "      <td>Belgium</td>\n",
       "      <td>Netherlands</td>\n",
       "      <td>Netherlands</td>\n",
       "      <td>Belgium</td>\n",
       "    </tr>\n",
       "  </tbody>\n",
       "</table>\n",
       "<p>5 rows × 50 columns</p>\n",
       "</div>"
      ],
      "text/plain": [
       "               0        1         2               3        4         5   \\\n",
       "0        Slovakia  Hungary  Slovakia  Czech Republic  Austria  Slovakia   \n",
       "1          Poland   Sweden    Sweden          Latvia   Sweden    Sweden   \n",
       "2  United Kingdom  Germany   Germany         Denmark  Denmark   Denmark   \n",
       "3          Sweden   Latvia   Estonia          Latvia   Latvia    Sweden   \n",
       "4  Czech Republic  Austria   Austria         Austria  Germany    Sweden   \n",
       "\n",
       "        6         7               8          9    ...                 40  \\\n",
       "0   Poland  Slovakia  Czech Republic     Poland   ...             France   \n",
       "1  Denmark    Sweden         Denmark    Germany   ...             Cyprus   \n",
       "2  Germany    France       Luxemburg    Belgium   ...     United Kingdom   \n",
       "3   Poland    Poland       Lithuania  Lithuania   ...        Netherlands   \n",
       "4  Estonia    Latvia       Lithuania  Lithuania   ...            Germany   \n",
       "\n",
       "               41              42              43       44           45  \\\n",
       "0         Germany  Czech Republic  Czech Republic  Austria     Slovakia   \n",
       "1          Cyprus          Cyprus          Greece   Cyprus       Greece   \n",
       "2  United Kingdom  United Kingdom          France  Germany  Netherlands   \n",
       "3         Ireland         Belgium         Ireland  Ireland  Netherlands   \n",
       "4  United Kingdom     Netherlands          France  Belgium    Luxemburg   \n",
       "\n",
       "            46           47           48       49  \n",
       "0     Slovakia     Slovakia       Poland   Sweden  \n",
       "1     Bulgaria      Romania      Romania  Romania  \n",
       "2  Netherlands      Ireland      Belgium  Germany  \n",
       "3      Ireland  Netherlands      Ireland  Ireland  \n",
       "4      Belgium  Netherlands  Netherlands  Belgium  \n",
       "\n",
       "[5 rows x 50 columns]"
      ]
     },
     "metadata": {},
     "output_type": "display_data"
    }
   ],
   "source": [
    "df_result_visited_countries = pd.DataFrame.from_records(\n",
    "    [agent['current_country'].tolist() for _, agent in agent_current_countries.reset_index().groupby(['AgentID'])])\n",
    "display(df_result_visited_countries.head())"
   ]
  },
  {
   "cell_type": "markdown",
   "metadata": {},
   "source": [
    "#### The same first and last country\n",
    "Based on result, more agents feel happier in different country than their origin one. <br>"
   ]
  },
  {
   "cell_type": "code",
   "execution_count": 5,
   "metadata": {},
   "outputs": [
    {
     "data": {
      "text/plain": [
       "False    95027\n",
       "True      4973\n",
       "dtype: int64"
      ]
     },
     "execution_count": 5,
     "metadata": {},
     "output_type": "execute_result"
    }
   ],
   "source": [
    "(df_result_visited_countries.iloc[:, 0] == df_result_visited_countries.iloc[:, n_iter - 1]).value_counts()"
   ]
  },
  {
   "cell_type": "markdown",
   "metadata": {},
   "source": [
    "#### Number of visited countries"
   ]
  },
  {
   "cell_type": "code",
   "execution_count": 6,
   "metadata": {},
   "outputs": [],
   "source": [
    "df_result_visited_countries['unique_countries_count'] = df_result_visited_countries.apply(pd.Series.nunique, axis=1)"
   ]
  },
  {
   "cell_type": "markdown",
   "metadata": {},
   "source": [
    "Max number of visited country for agent is:"
   ]
  },
  {
   "cell_type": "code",
   "execution_count": 7,
   "metadata": {},
   "outputs": [
    {
     "data": {
      "text/plain": [
       "25"
      ]
     },
     "execution_count": 7,
     "metadata": {},
     "output_type": "execute_result"
    }
   ],
   "source": [
    "df_result_visited_countries['unique_countries_count'].max()"
   ]
  },
  {
   "cell_type": "markdown",
   "metadata": {},
   "source": [
    "It is half of possible movements. <br>\n",
    "Agents can go ahead (e.g. to check whether life is better in another country) and go back."
   ]
  },
  {
   "cell_type": "markdown",
   "metadata": {},
   "source": [
    "Min number of visited country for agent is:"
   ]
  },
  {
   "cell_type": "code",
   "execution_count": 8,
   "metadata": {},
   "outputs": [
    {
     "data": {
      "text/plain": [
       "3"
      ]
     },
     "execution_count": 8,
     "metadata": {},
     "output_type": "execute_result"
    }
   ],
   "source": [
    "df_result_visited_countries['unique_countries_count'].min()"
   ]
  },
  {
   "cell_type": "markdown",
   "metadata": {},
   "source": [
    "There is no agent who didn't change country within 50 iterations.\n",
    "It means that agents were willingly to discover new places.\n",
    "They tried something new but could realize that previous place was better."
   ]
  },
  {
   "cell_type": "markdown",
   "metadata": {},
   "source": [
    "Median number of visited country for agent is:"
   ]
  },
  {
   "cell_type": "code",
   "execution_count": 9,
   "metadata": {},
   "outputs": [
    {
     "data": {
      "text/plain": [
       "15.0"
      ]
     },
     "execution_count": 9,
     "metadata": {},
     "output_type": "execute_result"
    }
   ],
   "source": [
    "df_result_visited_countries['unique_countries_count'].median()"
   ]
  },
  {
   "cell_type": "markdown",
   "metadata": {},
   "source": [
    "Median is lower than half of number of possible movements. It can indicate that agent found the best place and didn't want to try another one."
   ]
  },
  {
   "cell_type": "markdown",
   "metadata": {},
   "source": [
    "### Race"
   ]
  },
  {
   "cell_type": "markdown",
   "metadata": {},
   "source": [
    "In simulation I had following number of agents with race:"
   ]
  },
  {
   "cell_type": "code",
   "execution_count": 10,
   "metadata": {},
   "outputs": [
    {
     "data": {
      "text/plain": [
       "White    95827\n",
       "Black     2269\n",
       "Asian     1904\n",
       "Name: 0, dtype: int64"
      ]
     },
     "execution_count": 10,
     "metadata": {},
     "output_type": "execute_result"
    }
   ],
   "source": [
    "df_result_race = pd.DataFrame.from_records(\n",
    "    [agent['race'].tolist() for _, agent in agent_races.reset_index().groupby(['AgentID'])])\n",
    "df_result_race.iloc[:, 0].value_counts()"
   ]
  },
  {
   "cell_type": "markdown",
   "metadata": {},
   "source": [
    "About 95.8% of agents were white people. <br>\n",
    "About 2.3% of agents were black people. <br>\n",
    "And the rest of agents (1.9%) were asian people.\n",
    "\n",
    "There were a similar number of asian and black people which sum is much smaller than number of white people."
   ]
  },
  {
   "cell_type": "markdown",
   "metadata": {},
   "source": [
    "### Religious denomination"
   ]
  },
  {
   "cell_type": "markdown",
   "metadata": {},
   "source": [
    "In simulation I had following number of agents with religious denomination:"
   ]
  },
  {
   "cell_type": "code",
   "execution_count": 11,
   "metadata": {},
   "outputs": [
    {
     "data": {
      "text/plain": [
       "Christian    92633\n",
       "Muslim        7073\n",
       "Jew            294\n",
       "Name: 0, dtype: int64"
      ]
     },
     "execution_count": 11,
     "metadata": {},
     "output_type": "execute_result"
    }
   ],
   "source": [
    "df_result_religious_denomination = pd.DataFrame.from_records(\n",
    "    [agent['religious_denomination'].tolist() for _, agent in\n",
    "     agent_religious_denomination.reset_index().groupby(['AgentID'])])\n",
    "df_result_religious_denomination.iloc[:, 0].value_counts()"
   ]
  },
  {
   "cell_type": "markdown",
   "metadata": {},
   "source": [
    "Christians (92.6%) are the most numerous religious in simulation. Then are Muslims (7.1%) and Jews (0.3%)."
   ]
  },
  {
   "cell_type": "markdown",
   "metadata": {},
   "source": [
    "### Correlations"
   ]
  },
  {
   "cell_type": "markdown",
   "metadata": {},
   "source": [
    "Following section provides an information about correlation between data."
   ]
  },
  {
   "cell_type": "code",
   "execution_count": 12,
   "metadata": {},
   "outputs": [],
   "source": [
    "df_gathered_results = pd.DataFrame({'origin_country': df_result_visited_countries.iloc[:, 0],\n",
    "                                    'last_country': df_result_visited_countries.iloc[:, n_iter - 1],\n",
    "                                    'race': df_result_race.iloc[:, 0],\n",
    "                                    'religious_denomination': df_result_religious_denomination.iloc[:, 0]\n",
    "                                    })"
   ]
  },
  {
   "cell_type": "markdown",
   "metadata": {},
   "source": [
    "#### Race - the same origin and last country"
   ]
  },
  {
   "cell_type": "markdown",
   "metadata": {},
   "source": [
    "- White people"
   ]
  },
  {
   "cell_type": "code",
   "execution_count": 13,
   "metadata": {},
   "outputs": [
    {
     "data": {
      "text/plain": [
       "False    91041\n",
       "True      4786\n",
       "dtype: int64"
      ]
     },
     "execution_count": 13,
     "metadata": {},
     "output_type": "execute_result"
    }
   ],
   "source": [
    "df_gathered_results_white_people = df_gathered_results.groupby('race').get_group('White') \n",
    "(df_gathered_results_white_people['origin_country'] == df_gathered_results_white_people['last_country']).value_counts()"
   ]
  },
  {
   "cell_type": "markdown",
   "metadata": {},
   "source": [
    "White people were totally likely to travel, more than 95% of them have different origin and last country."
   ]
  },
  {
   "cell_type": "markdown",
   "metadata": {},
   "source": [
    "- Black people"
   ]
  },
  {
   "cell_type": "code",
   "execution_count": 14,
   "metadata": {},
   "outputs": [
    {
     "data": {
      "text/plain": [
       "False    2173\n",
       "True       96\n",
       "dtype: int64"
      ]
     },
     "execution_count": 14,
     "metadata": {},
     "output_type": "execute_result"
    }
   ],
   "source": [
    "df_gathered_results_black_people = df_gathered_results.groupby('race').get_group('Black') \n",
    "(df_gathered_results_black_people['origin_country'] == df_gathered_results_black_people['last_country']).value_counts()"
   ]
  },
  {
   "cell_type": "markdown",
   "metadata": {},
   "source": [
    "About 95.8% of black people have different origin and last country in simulation."
   ]
  },
  {
   "cell_type": "markdown",
   "metadata": {},
   "source": [
    "- Asian people"
   ]
  },
  {
   "cell_type": "code",
   "execution_count": 15,
   "metadata": {
    "scrolled": true
   },
   "outputs": [
    {
     "data": {
      "text/plain": [
       "False    1813\n",
       "True       91\n",
       "dtype: int64"
      ]
     },
     "execution_count": 15,
     "metadata": {},
     "output_type": "execute_result"
    }
   ],
   "source": [
    "df_gathered_results_asian_people = df_gathered_results.groupby('race').get_group('Asian') \n",
    "(df_gathered_results_asian_people['origin_country'] == df_gathered_results_asian_people['last_country']).value_counts()"
   ]
  },
  {
   "cell_type": "markdown",
   "metadata": {},
   "source": [
    "About 95.3% of jews travel around the EU."
   ]
  },
  {
   "cell_type": "markdown",
   "metadata": {},
   "source": [
    "As we can see, simillar number of agents representing races have migrated to another country."
   ]
  },
  {
   "cell_type": "markdown",
   "metadata": {},
   "source": [
    "#### Religious denomination - the same origin and last country"
   ]
  },
  {
   "cell_type": "markdown",
   "metadata": {},
   "source": [
    "- Christians"
   ]
  },
  {
   "cell_type": "code",
   "execution_count": 16,
   "metadata": {},
   "outputs": [
    {
     "data": {
      "text/plain": [
       "False    88117\n",
       "True      4516\n",
       "dtype: int64"
      ]
     },
     "execution_count": 16,
     "metadata": {},
     "output_type": "execute_result"
    }
   ],
   "source": [
    "df_gathered_results_christians = df_gathered_results.groupby('religious_denomination').get_group('Christian') \n",
    "(df_gathered_results_christians['origin_country'] == df_gathered_results_christians['last_country']).value_counts()"
   ]
  },
  {
   "cell_type": "markdown",
   "metadata": {},
   "source": [
    "The vast majority of Christians (95.1%) changed the country."
   ]
  },
  {
   "cell_type": "markdown",
   "metadata": {},
   "source": [
    "- Muslims"
   ]
  },
  {
   "cell_type": "code",
   "execution_count": 17,
   "metadata": {},
   "outputs": [
    {
     "data": {
      "text/plain": [
       "False    6640\n",
       "True      433\n",
       "dtype: int64"
      ]
     },
     "execution_count": 17,
     "metadata": {},
     "output_type": "execute_result"
    }
   ],
   "source": [
    "df_gathered_results_muslims = df_gathered_results.groupby('religious_denomination').get_group('Muslim') \n",
    "(df_gathered_results_muslims['origin_country'] == df_gathered_results_muslims['last_country']).value_counts()"
   ]
  },
  {
   "cell_type": "markdown",
   "metadata": {},
   "source": [
    "93.9% of Muslims considered another country as a new place for living."
   ]
  },
  {
   "cell_type": "markdown",
   "metadata": {},
   "source": [
    "- Jews"
   ]
  },
  {
   "cell_type": "code",
   "execution_count": 18,
   "metadata": {},
   "outputs": [
    {
     "data": {
      "text/plain": [
       "False    270\n",
       "True      24\n",
       "dtype: int64"
      ]
     },
     "execution_count": 18,
     "metadata": {},
     "output_type": "execute_result"
    }
   ],
   "source": [
    "df_gathered_results_jews = df_gathered_results.groupby('religious_denomination').get_group('Jew') \n",
    "(df_gathered_results_jews['origin_country'] == df_gathered_results_jews['last_country']).value_counts()"
   ]
  },
  {
   "cell_type": "markdown",
   "metadata": {},
   "source": [
    "91.74% of Jews found to be more happy in another country."
   ]
  },
  {
   "cell_type": "markdown",
   "metadata": {},
   "source": [
    "As we can see, traveling is not linked with any kind of religious denomination."
   ]
  }
 ],
 "metadata": {
  "kernelspec": {
   "display_name": "Python 3",
   "language": "python",
   "name": "python3"
  },
  "language_info": {
   "codemirror_mode": {
    "name": "ipython",
    "version": 3
   },
   "file_extension": ".py",
   "mimetype": "text/x-python",
   "name": "python",
   "nbconvert_exporter": "python",
   "pygments_lexer": "ipython3",
   "version": "3.6.8"
  }
 },
 "nbformat": 4,
 "nbformat_minor": 2
}
